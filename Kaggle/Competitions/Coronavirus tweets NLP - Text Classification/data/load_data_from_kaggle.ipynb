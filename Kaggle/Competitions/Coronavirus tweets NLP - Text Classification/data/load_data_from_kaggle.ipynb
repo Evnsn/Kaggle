{
 "cells": [
  {
   "cell_type": "markdown",
   "id": "062e6c2e",
   "metadata": {},
   "source": [
    "# Pima Indians Diabetes Database\n",
    "## Introduction\n",
    "Load the data from Kaggle\n",
    "[Link](https://www.kaggle.com/datatattle/covid-19-nlp-text-classification)\n",
    "\n",
    "## Import"
   ]
  },
  {
   "cell_type": "code",
   "execution_count": 1,
   "id": "9285925f",
   "metadata": {},
   "outputs": [
    {
     "name": "stdout",
     "output_type": "stream",
     "text": [
      "Warning: Your Kaggle API key is readable by other users on this system! To fix this, you can run 'chmod 600 /home/jovyan/.kaggle/kaggle.json'\n"
     ]
    }
   ],
   "source": [
    "import kaggle\n",
    "import zipfile\n",
    "import os"
   ]
  },
  {
   "cell_type": "markdown",
   "id": "20c7f059",
   "metadata": {},
   "source": [
    "## Download zip"
   ]
  },
  {
   "cell_type": "code",
   "execution_count": 2,
   "id": "325ace3b",
   "metadata": {},
   "outputs": [
    {
     "name": "stdout",
     "output_type": "stream",
     "text": [
      "chmod: changing permissions of '/home/jovyan/.kaggle/kaggle.json': Operation not permitted\n",
      "Warning: Your Kaggle API key is readable by other users on this system! To fix this, you can run 'chmod 600 /home/jovyan/.kaggle/kaggle.json'\n",
      "Downloading covid-19-nlp-text-classification.zip to /kaggle/Competitions/Coronavirus tweets NLP - Text Classification/data\n",
      "100%|██████████████████████████████████████| 4.38M/4.38M [00:00<00:00, 5.54MB/s]\n",
      "100%|██████████████████████████████████████| 4.38M/4.38M [00:00<00:00, 4.85MB/s]\n"
     ]
    }
   ],
   "source": [
    "# !kaggle datasets download -d uciml/pima-indians-diabetes-database\n",
    "!chmod 600 /home/jovyan/.kaggle/kaggle.json\n",
    "!kaggle datasets download -d datatattle/covid-19-nlp-text-classification"
   ]
  },
  {
   "cell_type": "markdown",
   "id": "2d5394a5",
   "metadata": {},
   "source": [
    "## Unzip"
   ]
  },
  {
   "cell_type": "code",
   "execution_count": 3,
   "id": "822dcddd",
   "metadata": {},
   "outputs": [],
   "source": [
    "def unzip_files(paths=[], directory_to_extract_to=\".\"):\n",
    "    for path in paths:\n",
    "        with zipfile.ZipFile(path, 'r') as zip_ref:\n",
    "            zip_ref.extractall(directory_to_extract_to)"
   ]
  },
  {
   "cell_type": "code",
   "execution_count": 4,
   "id": "b93b8e38",
   "metadata": {},
   "outputs": [
    {
     "name": "stdout",
     "output_type": "stream",
     "text": [
      "1 covid-19-nlp-text-classification.zip\n"
     ]
    }
   ],
   "source": [
    "root = os.getcwd()\n",
    "paths = []\n",
    "for (index, file) in enumerate(os.listdir(os.getcwd())):\n",
    "    if file.endswith(\".zip\"):\n",
    "        print(index, file)\n",
    "        paths.append(file)\n",
    "        unzip_files(paths, \"original\")"
   ]
  },
  {
   "cell_type": "code",
   "execution_count": null,
   "id": "e9d736b7",
   "metadata": {},
   "outputs": [],
   "source": []
  }
 ],
 "metadata": {
  "kernelspec": {
   "display_name": "Python 3 (ipykernel)",
   "language": "python",
   "name": "python3"
  },
  "language_info": {
   "codemirror_mode": {
    "name": "ipython",
    "version": 3
   },
   "file_extension": ".py",
   "mimetype": "text/x-python",
   "name": "python",
   "nbconvert_exporter": "python",
   "pygments_lexer": "ipython3",
   "version": "3.9.6"
  }
 },
 "nbformat": 4,
 "nbformat_minor": 5
}
