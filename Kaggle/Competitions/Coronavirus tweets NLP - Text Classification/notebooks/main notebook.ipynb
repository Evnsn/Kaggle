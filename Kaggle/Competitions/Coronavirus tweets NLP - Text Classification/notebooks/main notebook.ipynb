{
 "cells": [
  {
   "cell_type": "markdown",
   "id": "8a1d452d",
   "metadata": {},
   "source": [
    "# Introduction\n",
    "The purpose of this note book was to get experience with text pre-processing, which was of major relevance for my master thesis.  \n",
    "I've use this [dataset](https://www.kaggle.com/datatattle/covid-19-nlp-text-classification) and this [guid](https://www.kaggle.com/sudalairajkumar/getting-started-with-text-preprocessing) to work my way through this notebook.\n",
    "\n",
    "# Table of content:\n",
    "1. [Define problem](#1.-Define-problem)\n",
    "    1. Domain knowledge\n",
    "2. [Gather data](#2.-Gather-data)\n",
    "    1. Import libaries\n",
    "    2. Load data\n",
    "    3. Merge concategat\n",
    "3. [Initial exploration of data](#3.-Initial-exploration-of-data)\n",
    "4. [Pre-process data](#4.-Pre-process-data)\n",
    "    1. Data clean-up\n",
    "    2. Data imputation\n",
    "    3. Encode categorical features\n",
    "5. [Data analyze](#5.-Data-analyze)\n",
    "    1. Visualization\n",
    "    2. Variance\n",
    "    3. Correlation\n",
    "    4. Feature importance\n",
    "6. [Feature selection](#6.-Feature-selection)\n",
    "7. [Feature engineering](#7.-Feature-engineering)\n",
    "8. [Train-val-test split](#8.-Train-val-test-split)\n",
    "9. [Prepare data](#9.-Prepare-data)\n",
    "    1. Transform data\n",
    "    2. Feature scaling\n",
    "    3. Check for imbalance\n",
    "10. [Train some models](#10.-Train-some-models)\n",
    "11. [Evaluate models](#11.-Evaluate-models)\n",
    "12. [Tune selected models](#12.-Tune-selected-models)\n",
    "13. [Production](#13.-Production)"
   ]
  },
  {
   "cell_type": "markdown",
   "id": "09b13a82",
   "metadata": {},
   "source": [
    "# 1. Define problem\n",
    "## 1. Domain knowledge"
   ]
  },
  {
   "cell_type": "code",
   "execution_count": 2,
   "id": "d300fab6",
   "metadata": {},
   "outputs": [],
   "source": [
    "# Not relevant for the moment"
   ]
  },
  {
   "cell_type": "markdown",
   "id": "1e0c7ad4",
   "metadata": {},
   "source": [
    "# 2. Gather data\n",
    "The data is from Kaggle\n",
    "## 1. Import libaries"
   ]
  },
  {
   "cell_type": "code",
   "execution_count": 3,
   "id": "80feaae4",
   "metadata": {},
   "outputs": [],
   "source": [
    "import os\n",
    "import pandas as pd\n",
    "import numpy as np\n",
    "import matplotlib.pyplot as plt\n",
    "import seaborn as sns"
   ]
  },
  {
   "cell_type": "markdown",
   "id": "22bd9555",
   "metadata": {},
   "source": [
    "## 2. Load data"
   ]
  },
  {
   "cell_type": "code",
   "execution_count": 19,
   "id": "b5b4a6d2",
   "metadata": {},
   "outputs": [
    {
     "data": {
      "text/plain": [
       "['Corona_NLP_test.csv', 'Corona_NLP_train.csv', 'README.md']"
      ]
     },
     "execution_count": 19,
     "metadata": {},
     "output_type": "execute_result"
    }
   ],
   "source": [
    "path_to_data = \"../data/original/\"\n",
    "file_names = os.listdir(path_to_data)\n",
    "file_names"
   ]
  },
  {
   "cell_type": "code",
   "execution_count": 20,
   "id": "5c384602",
   "metadata": {},
   "outputs": [
    {
     "name": "stdout",
     "output_type": "stream",
     "text": [
      "Loaded csv\n"
     ]
    }
   ],
   "source": [
    "train = pd.read_csv(path_to_data+file_names[1],encoding='latin1')\n",
    "test = pd.read_csv(path_to_data+file_names[0],encoding='latin1')\n",
    "print(\"Loaded csv\")"
   ]
  },
  {
   "cell_type": "markdown",
   "id": "f3954385",
   "metadata": {},
   "source": [
    "# 3. Initial exploration of data"
   ]
  },
  {
   "cell_type": "code",
   "execution_count": 6,
   "id": "28dd3e98",
   "metadata": {},
   "outputs": [
    {
     "data": {
      "text/plain": [
       "Index(['UserName', 'ScreenName', 'Location', 'TweetAt', 'OriginalTweet',\n",
       "       'Sentiment'],\n",
       "      dtype='object')"
      ]
     },
     "execution_count": 6,
     "metadata": {},
     "output_type": "execute_result"
    }
   ],
   "source": [
    "train.columns"
   ]
  },
  {
   "cell_type": "code",
   "execution_count": 7,
   "id": "3de5184f",
   "metadata": {},
   "outputs": [
    {
     "data": {
      "text/html": [
       "<div>\n",
       "<style scoped>\n",
       "    .dataframe tbody tr th:only-of-type {\n",
       "        vertical-align: middle;\n",
       "    }\n",
       "\n",
       "    .dataframe tbody tr th {\n",
       "        vertical-align: top;\n",
       "    }\n",
       "\n",
       "    .dataframe thead th {\n",
       "        text-align: right;\n",
       "    }\n",
       "</style>\n",
       "<table border=\"1\" class=\"dataframe\">\n",
       "  <thead>\n",
       "    <tr style=\"text-align: right;\">\n",
       "      <th></th>\n",
       "      <th>UserName</th>\n",
       "      <th>ScreenName</th>\n",
       "      <th>Location</th>\n",
       "      <th>TweetAt</th>\n",
       "      <th>OriginalTweet</th>\n",
       "      <th>Sentiment</th>\n",
       "    </tr>\n",
       "  </thead>\n",
       "  <tbody>\n",
       "    <tr>\n",
       "      <th>0</th>\n",
       "      <td>3799</td>\n",
       "      <td>48751</td>\n",
       "      <td>London</td>\n",
       "      <td>16-03-2020</td>\n",
       "      <td>@MeNyrbie @Phil_Gahan @Chrisitv https://t.co/i...</td>\n",
       "      <td>Neutral</td>\n",
       "    </tr>\n",
       "    <tr>\n",
       "      <th>1</th>\n",
       "      <td>3800</td>\n",
       "      <td>48752</td>\n",
       "      <td>UK</td>\n",
       "      <td>16-03-2020</td>\n",
       "      <td>advice Talk to your neighbours family to excha...</td>\n",
       "      <td>Positive</td>\n",
       "    </tr>\n",
       "    <tr>\n",
       "      <th>2</th>\n",
       "      <td>3801</td>\n",
       "      <td>48753</td>\n",
       "      <td>Vagabonds</td>\n",
       "      <td>16-03-2020</td>\n",
       "      <td>Coronavirus Australia: Woolworths to give elde...</td>\n",
       "      <td>Positive</td>\n",
       "    </tr>\n",
       "    <tr>\n",
       "      <th>3</th>\n",
       "      <td>3802</td>\n",
       "      <td>48754</td>\n",
       "      <td>NaN</td>\n",
       "      <td>16-03-2020</td>\n",
       "      <td>My food stock is not the only one which is emp...</td>\n",
       "      <td>Positive</td>\n",
       "    </tr>\n",
       "    <tr>\n",
       "      <th>4</th>\n",
       "      <td>3803</td>\n",
       "      <td>48755</td>\n",
       "      <td>NaN</td>\n",
       "      <td>16-03-2020</td>\n",
       "      <td>Me, ready to go at supermarket during the #COV...</td>\n",
       "      <td>Extremely Negative</td>\n",
       "    </tr>\n",
       "    <tr>\n",
       "      <th>5</th>\n",
       "      <td>3804</td>\n",
       "      <td>48756</td>\n",
       "      <td>ÃT: 36.319708,-82.363649</td>\n",
       "      <td>16-03-2020</td>\n",
       "      <td>As news of the regionÂs first confirmed COVID...</td>\n",
       "      <td>Positive</td>\n",
       "    </tr>\n",
       "    <tr>\n",
       "      <th>6</th>\n",
       "      <td>3805</td>\n",
       "      <td>48757</td>\n",
       "      <td>35.926541,-78.753267</td>\n",
       "      <td>16-03-2020</td>\n",
       "      <td>Cashier at grocery store was sharing his insig...</td>\n",
       "      <td>Positive</td>\n",
       "    </tr>\n",
       "    <tr>\n",
       "      <th>7</th>\n",
       "      <td>3806</td>\n",
       "      <td>48758</td>\n",
       "      <td>Austria</td>\n",
       "      <td>16-03-2020</td>\n",
       "      <td>Was at the supermarket today. Didn't buy toile...</td>\n",
       "      <td>Neutral</td>\n",
       "    </tr>\n",
       "    <tr>\n",
       "      <th>8</th>\n",
       "      <td>3807</td>\n",
       "      <td>48759</td>\n",
       "      <td>Atlanta, GA USA</td>\n",
       "      <td>16-03-2020</td>\n",
       "      <td>Due to COVID-19 our retail store and classroom...</td>\n",
       "      <td>Positive</td>\n",
       "    </tr>\n",
       "    <tr>\n",
       "      <th>9</th>\n",
       "      <td>3808</td>\n",
       "      <td>48760</td>\n",
       "      <td>BHAVNAGAR,GUJRAT</td>\n",
       "      <td>16-03-2020</td>\n",
       "      <td>For corona prevention,we should stop to buy th...</td>\n",
       "      <td>Negative</td>\n",
       "    </tr>\n",
       "    <tr>\n",
       "      <th>10</th>\n",
       "      <td>3809</td>\n",
       "      <td>48761</td>\n",
       "      <td>Makati, Manila</td>\n",
       "      <td>16-03-2020</td>\n",
       "      <td>All month there hasn't been crowding in the su...</td>\n",
       "      <td>Neutral</td>\n",
       "    </tr>\n",
       "    <tr>\n",
       "      <th>11</th>\n",
       "      <td>3810</td>\n",
       "      <td>48762</td>\n",
       "      <td>Pitt Meadows, BC, Canada</td>\n",
       "      <td>16-03-2020</td>\n",
       "      <td>Due to the Covid-19 situation, we have increas...</td>\n",
       "      <td>Extremely Positive</td>\n",
       "    </tr>\n",
       "    <tr>\n",
       "      <th>12</th>\n",
       "      <td>3811</td>\n",
       "      <td>48763</td>\n",
       "      <td>Horningsea</td>\n",
       "      <td>16-03-2020</td>\n",
       "      <td>#horningsea is a caring community. LetÂs ALL ...</td>\n",
       "      <td>Extremely Positive</td>\n",
       "    </tr>\n",
       "    <tr>\n",
       "      <th>13</th>\n",
       "      <td>3812</td>\n",
       "      <td>48764</td>\n",
       "      <td>Chicago, IL</td>\n",
       "      <td>16-03-2020</td>\n",
       "      <td>Me: I don't need to stock up on food, I'll jus...</td>\n",
       "      <td>Positive</td>\n",
       "    </tr>\n",
       "    <tr>\n",
       "      <th>14</th>\n",
       "      <td>3813</td>\n",
       "      <td>48765</td>\n",
       "      <td>NaN</td>\n",
       "      <td>16-03-2020</td>\n",
       "      <td>ADARA Releases COVID-19 Resource Center for Tr...</td>\n",
       "      <td>Positive</td>\n",
       "    </tr>\n",
       "    <tr>\n",
       "      <th>15</th>\n",
       "      <td>3814</td>\n",
       "      <td>48766</td>\n",
       "      <td>Houston, Texas</td>\n",
       "      <td>16-03-2020</td>\n",
       "      <td>Lines at the grocery store have been unpredict...</td>\n",
       "      <td>Positive</td>\n",
       "    </tr>\n",
       "    <tr>\n",
       "      <th>16</th>\n",
       "      <td>3815</td>\n",
       "      <td>48767</td>\n",
       "      <td>Saudi Arabia</td>\n",
       "      <td>16-03-2020</td>\n",
       "      <td>????? ????? ????? ????? ??\\r\\r\\n?????? ????? ?...</td>\n",
       "      <td>Neutral</td>\n",
       "    </tr>\n",
       "    <tr>\n",
       "      <th>17</th>\n",
       "      <td>3816</td>\n",
       "      <td>48768</td>\n",
       "      <td>Ontario, Canada</td>\n",
       "      <td>16-03-2020</td>\n",
       "      <td>@eyeonthearctic 16MAR20 Russia consumer survei...</td>\n",
       "      <td>Neutral</td>\n",
       "    </tr>\n",
       "    <tr>\n",
       "      <th>18</th>\n",
       "      <td>3817</td>\n",
       "      <td>48769</td>\n",
       "      <td>North America</td>\n",
       "      <td>16-03-2020</td>\n",
       "      <td>Amazon Glitch Stymies Whole Foods, Fresh Groce...</td>\n",
       "      <td>Extremely Positive</td>\n",
       "    </tr>\n",
       "    <tr>\n",
       "      <th>19</th>\n",
       "      <td>3818</td>\n",
       "      <td>48770</td>\n",
       "      <td>Denver, CO</td>\n",
       "      <td>16-03-2020</td>\n",
       "      <td>For those who aren't struggling, please consid...</td>\n",
       "      <td>Positive</td>\n",
       "    </tr>\n",
       "  </tbody>\n",
       "</table>\n",
       "</div>"
      ],
      "text/plain": [
       "    UserName  ScreenName                   Location     TweetAt  \\\n",
       "0       3799       48751                     London  16-03-2020   \n",
       "1       3800       48752                         UK  16-03-2020   \n",
       "2       3801       48753                  Vagabonds  16-03-2020   \n",
       "3       3802       48754                        NaN  16-03-2020   \n",
       "4       3803       48755                        NaN  16-03-2020   \n",
       "5       3804       48756  ÃT: 36.319708,-82.363649  16-03-2020   \n",
       "6       3805       48757       35.926541,-78.753267  16-03-2020   \n",
       "7       3806       48758                    Austria  16-03-2020   \n",
       "8       3807       48759            Atlanta, GA USA  16-03-2020   \n",
       "9       3808       48760           BHAVNAGAR,GUJRAT  16-03-2020   \n",
       "10      3809       48761             Makati, Manila  16-03-2020   \n",
       "11      3810       48762  Pitt Meadows, BC, Canada   16-03-2020   \n",
       "12      3811       48763                 Horningsea  16-03-2020   \n",
       "13      3812       48764                Chicago, IL  16-03-2020   \n",
       "14      3813       48765                        NaN  16-03-2020   \n",
       "15      3814       48766             Houston, Texas  16-03-2020   \n",
       "16      3815       48767               Saudi Arabia  16-03-2020   \n",
       "17      3816       48768            Ontario, Canada  16-03-2020   \n",
       "18      3817       48769              North America  16-03-2020   \n",
       "19      3818       48770                 Denver, CO  16-03-2020   \n",
       "\n",
       "                                        OriginalTweet           Sentiment  \n",
       "0   @MeNyrbie @Phil_Gahan @Chrisitv https://t.co/i...             Neutral  \n",
       "1   advice Talk to your neighbours family to excha...            Positive  \n",
       "2   Coronavirus Australia: Woolworths to give elde...            Positive  \n",
       "3   My food stock is not the only one which is emp...            Positive  \n",
       "4   Me, ready to go at supermarket during the #COV...  Extremely Negative  \n",
       "5   As news of the regionÂs first confirmed COVID...            Positive  \n",
       "6   Cashier at grocery store was sharing his insig...            Positive  \n",
       "7   Was at the supermarket today. Didn't buy toile...             Neutral  \n",
       "8   Due to COVID-19 our retail store and classroom...            Positive  \n",
       "9   For corona prevention,we should stop to buy th...            Negative  \n",
       "10  All month there hasn't been crowding in the su...             Neutral  \n",
       "11  Due to the Covid-19 situation, we have increas...  Extremely Positive  \n",
       "12  #horningsea is a caring community. LetÂs ALL ...  Extremely Positive  \n",
       "13  Me: I don't need to stock up on food, I'll jus...            Positive  \n",
       "14  ADARA Releases COVID-19 Resource Center for Tr...            Positive  \n",
       "15  Lines at the grocery store have been unpredict...            Positive  \n",
       "16  ????? ????? ????? ????? ??\\r\\r\\n?????? ????? ?...             Neutral  \n",
       "17  @eyeonthearctic 16MAR20 Russia consumer survei...             Neutral  \n",
       "18  Amazon Glitch Stymies Whole Foods, Fresh Groce...  Extremely Positive  \n",
       "19  For those who aren't struggling, please consid...            Positive  "
      ]
     },
     "execution_count": 7,
     "metadata": {},
     "output_type": "execute_result"
    }
   ],
   "source": [
    "train.head(20)"
   ]
  },
  {
   "cell_type": "code",
   "execution_count": 8,
   "id": "f34e7d90",
   "metadata": {},
   "outputs": [
    {
     "name": "stdout",
     "output_type": "stream",
     "text": [
      "<class 'pandas.core.frame.DataFrame'>\n",
      "RangeIndex: 41157 entries, 0 to 41156\n",
      "Data columns (total 6 columns):\n",
      " #   Column         Non-Null Count  Dtype \n",
      "---  ------         --------------  ----- \n",
      " 0   UserName       41157 non-null  int64 \n",
      " 1   ScreenName     41157 non-null  int64 \n",
      " 2   Location       32567 non-null  object\n",
      " 3   TweetAt        41157 non-null  object\n",
      " 4   OriginalTweet  41157 non-null  object\n",
      " 5   Sentiment      41157 non-null  object\n",
      "dtypes: int64(2), object(4)\n",
      "memory usage: 1.9+ MB\n"
     ]
    }
   ],
   "source": [
    "train.info()"
   ]
  },
  {
   "cell_type": "code",
   "execution_count": 10,
   "id": "06c4d01e",
   "metadata": {
    "scrolled": true
   },
   "outputs": [
    {
     "data": {
      "text/html": [
       "<div>\n",
       "<style scoped>\n",
       "    .dataframe tbody tr th:only-of-type {\n",
       "        vertical-align: middle;\n",
       "    }\n",
       "\n",
       "    .dataframe tbody tr th {\n",
       "        vertical-align: top;\n",
       "    }\n",
       "\n",
       "    .dataframe thead th {\n",
       "        text-align: right;\n",
       "    }\n",
       "</style>\n",
       "<table border=\"1\" class=\"dataframe\">\n",
       "  <thead>\n",
       "    <tr style=\"text-align: right;\">\n",
       "      <th></th>\n",
       "      <th>UserName</th>\n",
       "      <th>ScreenName</th>\n",
       "    </tr>\n",
       "  </thead>\n",
       "  <tbody>\n",
       "    <tr>\n",
       "      <th>count</th>\n",
       "      <td>41157.000000</td>\n",
       "      <td>41157.000000</td>\n",
       "    </tr>\n",
       "    <tr>\n",
       "      <th>mean</th>\n",
       "      <td>24377.000000</td>\n",
       "      <td>69329.000000</td>\n",
       "    </tr>\n",
       "    <tr>\n",
       "      <th>std</th>\n",
       "      <td>11881.146851</td>\n",
       "      <td>11881.146851</td>\n",
       "    </tr>\n",
       "    <tr>\n",
       "      <th>min</th>\n",
       "      <td>3799.000000</td>\n",
       "      <td>48751.000000</td>\n",
       "    </tr>\n",
       "    <tr>\n",
       "      <th>25%</th>\n",
       "      <td>14088.000000</td>\n",
       "      <td>59040.000000</td>\n",
       "    </tr>\n",
       "    <tr>\n",
       "      <th>50%</th>\n",
       "      <td>24377.000000</td>\n",
       "      <td>69329.000000</td>\n",
       "    </tr>\n",
       "    <tr>\n",
       "      <th>75%</th>\n",
       "      <td>34666.000000</td>\n",
       "      <td>79618.000000</td>\n",
       "    </tr>\n",
       "    <tr>\n",
       "      <th>max</th>\n",
       "      <td>44955.000000</td>\n",
       "      <td>89907.000000</td>\n",
       "    </tr>\n",
       "  </tbody>\n",
       "</table>\n",
       "</div>"
      ],
      "text/plain": [
       "           UserName    ScreenName\n",
       "count  41157.000000  41157.000000\n",
       "mean   24377.000000  69329.000000\n",
       "std    11881.146851  11881.146851\n",
       "min     3799.000000  48751.000000\n",
       "25%    14088.000000  59040.000000\n",
       "50%    24377.000000  69329.000000\n",
       "75%    34666.000000  79618.000000\n",
       "max    44955.000000  89907.000000"
      ]
     },
     "execution_count": 10,
     "metadata": {},
     "output_type": "execute_result"
    }
   ],
   "source": [
    "train.describe()"
   ]
  },
  {
   "cell_type": "code",
   "execution_count": 12,
   "id": "1360cac6",
   "metadata": {},
   "outputs": [
    {
     "data": {
      "text/html": [
       "<div>\n",
       "<style scoped>\n",
       "    .dataframe tbody tr th:only-of-type {\n",
       "        vertical-align: middle;\n",
       "    }\n",
       "\n",
       "    .dataframe tbody tr th {\n",
       "        vertical-align: top;\n",
       "    }\n",
       "\n",
       "    .dataframe thead th {\n",
       "        text-align: right;\n",
       "    }\n",
       "</style>\n",
       "<table border=\"1\" class=\"dataframe\">\n",
       "  <thead>\n",
       "    <tr style=\"text-align: right;\">\n",
       "      <th>Sentiment</th>\n",
       "      <th>Extremely Negative</th>\n",
       "      <th>Extremely Positive</th>\n",
       "      <th>Negative</th>\n",
       "      <th>Neutral</th>\n",
       "      <th>Positive</th>\n",
       "    </tr>\n",
       "    <tr>\n",
       "      <th>OriginalTweet</th>\n",
       "      <th></th>\n",
       "      <th></th>\n",
       "      <th></th>\n",
       "      <th></th>\n",
       "      <th></th>\n",
       "    </tr>\n",
       "  </thead>\n",
       "  <tbody>\n",
       "    <tr>\n",
       "      <th>Coronavirus lingers in air longer than previously thought scientists warn</th>\n",
       "      <td>NaN</td>\n",
       "      <td>NaN</td>\n",
       "      <td>1.0</td>\n",
       "      <td>NaN</td>\n",
       "      <td>NaN</td>\n",
       "    </tr>\n",
       "    <tr>\n",
       "      <th>amp</th>\n",
       "      <td>NaN</td>\n",
       "      <td>NaN</td>\n",
       "      <td>NaN</td>\n",
       "      <td>1.0</td>\n",
       "      <td>NaN</td>\n",
       "    </tr>\n",
       "    <tr>\n",
       "      <th>Hand Sanitizer Free Gift For Current Situation</th>\n",
       "      <td>NaN</td>\n",
       "      <td>0.0</td>\n",
       "      <td>NaN</td>\n",
       "      <td>NaN</td>\n",
       "      <td>NaN</td>\n",
       "    </tr>\n",
       "    <tr>\n",
       "      <th>Our medical frontliners are our country s first line of defense in our fight against COVID 19 As our way of showing our appreciation they are given access to the priority lanes at Robinsons Supermarket</th>\n",
       "      <td>NaN</td>\n",
       "      <td>NaN</td>\n",
       "      <td>NaN</td>\n",
       "      <td>NaN</td>\n",
       "      <td>1.0</td>\n",
       "    </tr>\n",
       "    <tr>\n",
       "      <th>Police officers handed out rolls of toilet paper at a supermarket on Thursday to try to calm shoppers down during the outbreak in</th>\n",
       "      <td>NaN</td>\n",
       "      <td>NaN</td>\n",
       "      <td>NaN</td>\n",
       "      <td>NaN</td>\n",
       "      <td>1.0</td>\n",
       "    </tr>\n",
       "    <tr>\n",
       "      <th>...</th>\n",
       "      <td>...</td>\n",
       "      <td>...</td>\n",
       "      <td>...</td>\n",
       "      <td>...</td>\n",
       "      <td>...</td>\n",
       "    </tr>\n",
       "    <tr>\n",
       "      <th>Â«Â Industrial real-estate operators expect the disruption of consumer supply chains caused by the coronavirus pandemic to drive a new surge in #warehousing demandÂ Â» #RealEstate #COVID2019 #logistics\\r\\r\\nhttps://t.co/0jiC0w0yGZ</th>\n",
       "      <td>NaN</td>\n",
       "      <td>NaN</td>\n",
       "      <td>1.0</td>\n",
       "      <td>NaN</td>\n",
       "      <td>NaN</td>\n",
       "    </tr>\n",
       "    <tr>\n",
       "      <th>Â«Â Well, officer, it is quite simple actually: I cycled up the hill to the supermarket to buy catÂs food, so I ticked all thÃ© boxesÂ Â». #MaVieConfinee #confinementjour2 #COVID2019 #relax ?? https://t.co/WYRIReGhen</th>\n",
       "      <td>NaN</td>\n",
       "      <td>NaN</td>\n",
       "      <td>0.0</td>\n",
       "      <td>NaN</td>\n",
       "      <td>NaN</td>\n",
       "    </tr>\n",
       "    <tr>\n",
       "      <th>Â» CONSUMER ALERT: Coronavirus (COVID-19): Know Your Rights | Attorney General Karl A. Racine https://t.co/5pJGz2aRNk</th>\n",
       "      <td>NaN</td>\n",
       "      <td>NaN</td>\n",
       "      <td>NaN</td>\n",
       "      <td>NaN</td>\n",
       "      <td>1.0</td>\n",
       "    </tr>\n",
       "    <tr>\n",
       "      <th>Ãa se peut?  Why Does Covid-19 Make Some People So Sick? Ask Their DNA Consumer genomics company 23andMe wants to mine its database of millions of customers for clues to why the virus hits some https://t.co/7uPouMm12j</th>\n",
       "      <td>1.0</td>\n",
       "      <td>NaN</td>\n",
       "      <td>NaN</td>\n",
       "      <td>NaN</td>\n",
       "      <td>NaN</td>\n",
       "    </tr>\n",
       "    <tr>\n",
       "      <th>Ã  As buyers stock up, exports of cereals, processed food, spices spike\\r\\r\\n\\r\\r\\nÃ  South-based auto makers suspend production in fight against Covid-19\\r\\r\\n\\r\\r\\nÃ  With April 1 deadline looming, more than 7 lakh BS-IV vehicles are lying unsold</th>\n",
       "      <td>1.0</td>\n",
       "      <td>NaN</td>\n",
       "      <td>NaN</td>\n",
       "      <td>NaN</td>\n",
       "      <td>NaN</td>\n",
       "    </tr>\n",
       "  </tbody>\n",
       "</table>\n",
       "<p>41157 rows × 5 columns</p>\n",
       "</div>"
      ],
      "text/plain": [
       "Sentiment                                           Extremely Negative  \\\n",
       "OriginalTweet                                                            \n",
       "      Coronavirus lingers in air longer than pr...                 NaN   \n",
       "      amp                                                          NaN   \n",
       "    Hand Sanitizer Free Gift For Current Situat...                 NaN   \n",
       "    Our medical frontliners are our country s f...                 NaN   \n",
       "    Police officers handed out rolls of toilet ...                 NaN   \n",
       "...                                                                ...   \n",
       "Â«Â Industrial real-estate operators expect the...                 NaN   \n",
       "Â«Â Well, officer, it is quite simple actually:...                 NaN   \n",
       "Â» CONSUMER ALERT: Coronavirus (COVID-19): Know...                 NaN   \n",
       "Ãa se peut?  Why Does Covid-19 Make Some Peopl...                 1.0   \n",
       "Ã  As buyers stock up, exports of cereals, pro...                 1.0   \n",
       "\n",
       "Sentiment                                           Extremely Positive  \\\n",
       "OriginalTweet                                                            \n",
       "      Coronavirus lingers in air longer than pr...                 NaN   \n",
       "      amp                                                          NaN   \n",
       "    Hand Sanitizer Free Gift For Current Situat...                 0.0   \n",
       "    Our medical frontliners are our country s f...                 NaN   \n",
       "    Police officers handed out rolls of toilet ...                 NaN   \n",
       "...                                                                ...   \n",
       "Â«Â Industrial real-estate operators expect the...                 NaN   \n",
       "Â«Â Well, officer, it is quite simple actually:...                 NaN   \n",
       "Â» CONSUMER ALERT: Coronavirus (COVID-19): Know...                 NaN   \n",
       "Ãa se peut?  Why Does Covid-19 Make Some Peopl...                 NaN   \n",
       "Ã  As buyers stock up, exports of cereals, pro...                 NaN   \n",
       "\n",
       "Sentiment                                           Negative  Neutral  \\\n",
       "OriginalTweet                                                           \n",
       "      Coronavirus lingers in air longer than pr...       1.0      NaN   \n",
       "      amp                                                NaN      1.0   \n",
       "    Hand Sanitizer Free Gift For Current Situat...       NaN      NaN   \n",
       "    Our medical frontliners are our country s f...       NaN      NaN   \n",
       "    Police officers handed out rolls of toilet ...       NaN      NaN   \n",
       "...                                                      ...      ...   \n",
       "Â«Â Industrial real-estate operators expect the...       1.0      NaN   \n",
       "Â«Â Well, officer, it is quite simple actually:...       0.0      NaN   \n",
       "Â» CONSUMER ALERT: Coronavirus (COVID-19): Know...       NaN      NaN   \n",
       "Ãa se peut?  Why Does Covid-19 Make Some Peopl...       NaN      NaN   \n",
       "Ã  As buyers stock up, exports of cereals, pro...       NaN      NaN   \n",
       "\n",
       "Sentiment                                           Positive  \n",
       "OriginalTweet                                                 \n",
       "      Coronavirus lingers in air longer than pr...       NaN  \n",
       "      amp                                                NaN  \n",
       "    Hand Sanitizer Free Gift For Current Situat...       NaN  \n",
       "    Our medical frontliners are our country s f...       1.0  \n",
       "    Police officers handed out rolls of toilet ...       1.0  \n",
       "...                                                      ...  \n",
       "Â«Â Industrial real-estate operators expect the...       NaN  \n",
       "Â«Â Well, officer, it is quite simple actually:...       NaN  \n",
       "Â» CONSUMER ALERT: Coronavirus (COVID-19): Know...       1.0  \n",
       "Ãa se peut?  Why Does Covid-19 Make Some Peopl...       NaN  \n",
       "Ã  As buyers stock up, exports of cereals, pro...       NaN  \n",
       "\n",
       "[41157 rows x 5 columns]"
      ]
     },
     "execution_count": 12,
     "metadata": {},
     "output_type": "execute_result"
    }
   ],
   "source": [
    "pd.pivot_table(train, index='OriginalTweet', columns='Sentiment', values='Location', aggfunc='count' )"
   ]
  },
  {
   "cell_type": "markdown",
   "id": "c03827cd",
   "metadata": {},
   "source": [
    "# 4. Pre-process data\n",
    "## 1.Data clean-up\n",
    "I'll only keep 'OriginalTweet' since I'm intrested text analysis.  \n",
    "  \n",
    "Some common text preprocessing / cleaning steps are:\n",
    "- Lower casing\n",
    "- Removal of Punctuations\n",
    "- Removal of Stopwords\n",
    "- Removal of Frequent words\n",
    "- Removal of Rare words\n",
    "- Stemming\n",
    "- Lemmatization\n",
    "- Removal of emojis\n",
    "- Removal of emoticons\n",
    "- Conversion of emoticons to words\n",
    "- Conversion of emojis to words\n",
    "- Removal of URLs\n",
    "- Removal of HTML tags\n",
    "- Chat words conversion\n",
    "- Spelling correction"
   ]
  },
  {
   "cell_type": "markdown",
   "id": "caf0e559",
   "metadata": {},
   "source": [
    "### Remove columns "
   ]
  },
  {
   "cell_type": "code",
   "execution_count": 21,
   "id": "d01badf1",
   "metadata": {},
   "outputs": [],
   "source": [
    "train = train[['OriginalTweet']]"
   ]
  },
  {
   "cell_type": "code",
   "execution_count": 22,
   "id": "c0376b08",
   "metadata": {
    "scrolled": true
   },
   "outputs": [
    {
     "data": {
      "text/html": [
       "<div>\n",
       "<style scoped>\n",
       "    .dataframe tbody tr th:only-of-type {\n",
       "        vertical-align: middle;\n",
       "    }\n",
       "\n",
       "    .dataframe tbody tr th {\n",
       "        vertical-align: top;\n",
       "    }\n",
       "\n",
       "    .dataframe thead th {\n",
       "        text-align: right;\n",
       "    }\n",
       "</style>\n",
       "<table border=\"1\" class=\"dataframe\">\n",
       "  <thead>\n",
       "    <tr style=\"text-align: right;\">\n",
       "      <th></th>\n",
       "      <th>OriginalTweet</th>\n",
       "    </tr>\n",
       "  </thead>\n",
       "  <tbody>\n",
       "    <tr>\n",
       "      <th>0</th>\n",
       "      <td>@MeNyrbie @Phil_Gahan @Chrisitv https://t.co/i...</td>\n",
       "    </tr>\n",
       "    <tr>\n",
       "      <th>1</th>\n",
       "      <td>advice Talk to your neighbours family to excha...</td>\n",
       "    </tr>\n",
       "    <tr>\n",
       "      <th>2</th>\n",
       "      <td>Coronavirus Australia: Woolworths to give elde...</td>\n",
       "    </tr>\n",
       "    <tr>\n",
       "      <th>3</th>\n",
       "      <td>My food stock is not the only one which is emp...</td>\n",
       "    </tr>\n",
       "    <tr>\n",
       "      <th>4</th>\n",
       "      <td>Me, ready to go at supermarket during the #COV...</td>\n",
       "    </tr>\n",
       "    <tr>\n",
       "      <th>...</th>\n",
       "      <td>...</td>\n",
       "    </tr>\n",
       "    <tr>\n",
       "      <th>41152</th>\n",
       "      <td>Airline pilots offering to stock supermarket s...</td>\n",
       "    </tr>\n",
       "    <tr>\n",
       "      <th>41153</th>\n",
       "      <td>Response to complaint not provided citing COVI...</td>\n",
       "    </tr>\n",
       "    <tr>\n",
       "      <th>41154</th>\n",
       "      <td>You know itÂs getting tough when @KameronWild...</td>\n",
       "    </tr>\n",
       "    <tr>\n",
       "      <th>41155</th>\n",
       "      <td>Is it wrong that the smell of hand sanitizer i...</td>\n",
       "    </tr>\n",
       "    <tr>\n",
       "      <th>41156</th>\n",
       "      <td>@TartiiCat Well new/used Rift S are going for ...</td>\n",
       "    </tr>\n",
       "  </tbody>\n",
       "</table>\n",
       "<p>41157 rows × 1 columns</p>\n",
       "</div>"
      ],
      "text/plain": [
       "                                           OriginalTweet\n",
       "0      @MeNyrbie @Phil_Gahan @Chrisitv https://t.co/i...\n",
       "1      advice Talk to your neighbours family to excha...\n",
       "2      Coronavirus Australia: Woolworths to give elde...\n",
       "3      My food stock is not the only one which is emp...\n",
       "4      Me, ready to go at supermarket during the #COV...\n",
       "...                                                  ...\n",
       "41152  Airline pilots offering to stock supermarket s...\n",
       "41153  Response to complaint not provided citing COVI...\n",
       "41154  You know itÂs getting tough when @KameronWild...\n",
       "41155  Is it wrong that the smell of hand sanitizer i...\n",
       "41156  @TartiiCat Well new/used Rift S are going for ...\n",
       "\n",
       "[41157 rows x 1 columns]"
      ]
     },
     "execution_count": 22,
     "metadata": {},
     "output_type": "execute_result"
    }
   ],
   "source": [
    "train"
   ]
  },
  {
   "cell_type": "markdown",
   "id": "011c1e06",
   "metadata": {},
   "source": [
    "### Lower casing"
   ]
  },
  {
   "cell_type": "code",
   "execution_count": 28,
   "id": "ea969787",
   "metadata": {
    "scrolled": true
   },
   "outputs": [
    {
     "data": {
      "text/html": [
       "<div>\n",
       "<style scoped>\n",
       "    .dataframe tbody tr th:only-of-type {\n",
       "        vertical-align: middle;\n",
       "    }\n",
       "\n",
       "    .dataframe tbody tr th {\n",
       "        vertical-align: top;\n",
       "    }\n",
       "\n",
       "    .dataframe thead th {\n",
       "        text-align: right;\n",
       "    }\n",
       "</style>\n",
       "<table border=\"1\" class=\"dataframe\">\n",
       "  <thead>\n",
       "    <tr style=\"text-align: right;\">\n",
       "      <th></th>\n",
       "      <th>OriginalTweet</th>\n",
       "      <th>text_wo_punct</th>\n",
       "      <th>text_lower</th>\n",
       "    </tr>\n",
       "  </thead>\n",
       "  <tbody>\n",
       "    <tr>\n",
       "      <th>0</th>\n",
       "      <td>@MeNyrbie @Phil_Gahan @Chrisitv https://t.co/i...</td>\n",
       "      <td>MeNyrbie PhilGahan Chrisitv httpstcoiFz9FAn2Pa...</td>\n",
       "      <td>@menyrbie @phil_gahan @chrisitv https://t.co/i...</td>\n",
       "    </tr>\n",
       "    <tr>\n",
       "      <th>1</th>\n",
       "      <td>advice Talk to your neighbours family to excha...</td>\n",
       "      <td>advice Talk to your neighbours family to excha...</td>\n",
       "      <td>advice talk to your neighbours family to excha...</td>\n",
       "    </tr>\n",
       "    <tr>\n",
       "      <th>2</th>\n",
       "      <td>Coronavirus Australia: Woolworths to give elde...</td>\n",
       "      <td>Coronavirus Australia Woolworths to give elder...</td>\n",
       "      <td>coronavirus australia: woolworths to give elde...</td>\n",
       "    </tr>\n",
       "    <tr>\n",
       "      <th>3</th>\n",
       "      <td>My food stock is not the only one which is emp...</td>\n",
       "      <td>My food stock is not the only one which is emp...</td>\n",
       "      <td>my food stock is not the only one which is emp...</td>\n",
       "    </tr>\n",
       "    <tr>\n",
       "      <th>4</th>\n",
       "      <td>Me, ready to go at supermarket during the #COV...</td>\n",
       "      <td>Me ready to go at supermarket during the COVID...</td>\n",
       "      <td>me, ready to go at supermarket during the #cov...</td>\n",
       "    </tr>\n",
       "  </tbody>\n",
       "</table>\n",
       "</div>"
      ],
      "text/plain": [
       "                                       OriginalTweet  \\\n",
       "0  @MeNyrbie @Phil_Gahan @Chrisitv https://t.co/i...   \n",
       "1  advice Talk to your neighbours family to excha...   \n",
       "2  Coronavirus Australia: Woolworths to give elde...   \n",
       "3  My food stock is not the only one which is emp...   \n",
       "4  Me, ready to go at supermarket during the #COV...   \n",
       "\n",
       "                                       text_wo_punct  \\\n",
       "0  MeNyrbie PhilGahan Chrisitv httpstcoiFz9FAn2Pa...   \n",
       "1  advice Talk to your neighbours family to excha...   \n",
       "2  Coronavirus Australia Woolworths to give elder...   \n",
       "3  My food stock is not the only one which is emp...   \n",
       "4  Me ready to go at supermarket during the COVID...   \n",
       "\n",
       "                                          text_lower  \n",
       "0  @menyrbie @phil_gahan @chrisitv https://t.co/i...  \n",
       "1  advice talk to your neighbours family to excha...  \n",
       "2  coronavirus australia: woolworths to give elde...  \n",
       "3  my food stock is not the only one which is emp...  \n",
       "4  me, ready to go at supermarket during the #cov...  "
      ]
     },
     "execution_count": 28,
     "metadata": {},
     "output_type": "execute_result"
    }
   ],
   "source": [
    "train[\"text_lower\"] = train['OriginalTweet'].str.lower()\n",
    "train.head()"
   ]
  },
  {
   "cell_type": "markdown",
   "id": "1cb1de71",
   "metadata": {},
   "source": [
    "### Removal of Punctuations"
   ]
  },
  {
   "cell_type": "code",
   "execution_count": 29,
   "id": "b89fd7f6",
   "metadata": {},
   "outputs": [
    {
     "data": {
      "text/html": [
       "<div>\n",
       "<style scoped>\n",
       "    .dataframe tbody tr th:only-of-type {\n",
       "        vertical-align: middle;\n",
       "    }\n",
       "\n",
       "    .dataframe tbody tr th {\n",
       "        vertical-align: top;\n",
       "    }\n",
       "\n",
       "    .dataframe thead th {\n",
       "        text-align: right;\n",
       "    }\n",
       "</style>\n",
       "<table border=\"1\" class=\"dataframe\">\n",
       "  <thead>\n",
       "    <tr style=\"text-align: right;\">\n",
       "      <th></th>\n",
       "      <th>OriginalTweet</th>\n",
       "      <th>text_wo_punct</th>\n",
       "      <th>text_lower</th>\n",
       "    </tr>\n",
       "  </thead>\n",
       "  <tbody>\n",
       "    <tr>\n",
       "      <th>0</th>\n",
       "      <td>@MeNyrbie @Phil_Gahan @Chrisitv https://t.co/i...</td>\n",
       "      <td>menyrbie philgahan chrisitv httpstcoifz9fan2pa...</td>\n",
       "      <td>@menyrbie @phil_gahan @chrisitv https://t.co/i...</td>\n",
       "    </tr>\n",
       "    <tr>\n",
       "      <th>1</th>\n",
       "      <td>advice Talk to your neighbours family to excha...</td>\n",
       "      <td>advice talk to your neighbours family to excha...</td>\n",
       "      <td>advice talk to your neighbours family to excha...</td>\n",
       "    </tr>\n",
       "    <tr>\n",
       "      <th>2</th>\n",
       "      <td>Coronavirus Australia: Woolworths to give elde...</td>\n",
       "      <td>coronavirus australia woolworths to give elder...</td>\n",
       "      <td>coronavirus australia: woolworths to give elde...</td>\n",
       "    </tr>\n",
       "    <tr>\n",
       "      <th>3</th>\n",
       "      <td>My food stock is not the only one which is emp...</td>\n",
       "      <td>my food stock is not the only one which is emp...</td>\n",
       "      <td>my food stock is not the only one which is emp...</td>\n",
       "    </tr>\n",
       "    <tr>\n",
       "      <th>4</th>\n",
       "      <td>Me, ready to go at supermarket during the #COV...</td>\n",
       "      <td>me ready to go at supermarket during the covid...</td>\n",
       "      <td>me, ready to go at supermarket during the #cov...</td>\n",
       "    </tr>\n",
       "  </tbody>\n",
       "</table>\n",
       "</div>"
      ],
      "text/plain": [
       "                                       OriginalTweet  \\\n",
       "0  @MeNyrbie @Phil_Gahan @Chrisitv https://t.co/i...   \n",
       "1  advice Talk to your neighbours family to excha...   \n",
       "2  Coronavirus Australia: Woolworths to give elde...   \n",
       "3  My food stock is not the only one which is emp...   \n",
       "4  Me, ready to go at supermarket during the #COV...   \n",
       "\n",
       "                                       text_wo_punct  \\\n",
       "0  menyrbie philgahan chrisitv httpstcoifz9fan2pa...   \n",
       "1  advice talk to your neighbours family to excha...   \n",
       "2  coronavirus australia woolworths to give elder...   \n",
       "3  my food stock is not the only one which is emp...   \n",
       "4  me ready to go at supermarket during the covid...   \n",
       "\n",
       "                                          text_lower  \n",
       "0  @menyrbie @phil_gahan @chrisitv https://t.co/i...  \n",
       "1  advice talk to your neighbours family to excha...  \n",
       "2  coronavirus australia: woolworths to give elde...  \n",
       "3  my food stock is not the only one which is emp...  \n",
       "4  me, ready to go at supermarket during the #cov...  "
      ]
     },
     "execution_count": 29,
     "metadata": {},
     "output_type": "execute_result"
    }
   ],
   "source": [
    "import string\n",
    "\n",
    "PUNCT_TO_REMOVE = string.punctuation\n",
    "def remove_punctuation(text):\n",
    "    \"\"\"custom function to remove the punctuation\"\"\"\n",
    "    return text.translate(str.maketrans('', '', PUNCT_TO_REMOVE))\n",
    "\n",
    "train['text_wo_punct'] = train['text_lower'].apply(lambda text: remove_punctuation(text))\n",
    "train.head()"
   ]
  },
  {
   "cell_type": "markdown",
   "id": "591adeb7",
   "metadata": {},
   "source": [
    "### Removal of stopwords\n",
    "Stopwords are commonly occuring words in a language like 'the', 'a' and so on. They can be removed from the text most of the times, as they don't provide valuable information for downstream analysis. In cases like Part of Speech tagging, we should not remove them as provide very valuable information about the POS. [Link](https://www.kaggle.com/sudalairajkumar/getting-started-with-text-preprocessing#Removal-of-stopwords)."
   ]
  },
  {
   "cell_type": "code",
   "execution_count": 31,
   "id": "9a24bfef",
   "metadata": {},
   "outputs": [
    {
     "name": "stdout",
     "output_type": "stream",
     "text": [
      "Collecting nltk\n",
      "  Downloading nltk-3.6.3-py3-none-any.whl (1.5 MB)\n",
      "\u001b[K     |████████████████████████████████| 1.5 MB 4.4 MB/s eta 0:00:01\n",
      "\u001b[?25hRequirement already satisfied: joblib in /opt/conda/lib/python3.9/site-packages (from nltk) (1.0.1)\n",
      "Collecting regex\n",
      "  Downloading regex-2021.9.24-cp39-cp39-manylinux_2_17_x86_64.manylinux2014_x86_64.whl (761 kB)\n",
      "\u001b[K     |████████████████████████████████| 761 kB 7.4 MB/s eta 0:00:01\n",
      "\u001b[?25hRequirement already satisfied: click in /opt/conda/lib/python3.9/site-packages (from nltk) (8.0.1)\n",
      "Requirement already satisfied: tqdm in /opt/conda/lib/python3.9/site-packages (from nltk) (4.62.2)\n",
      "Installing collected packages: regex, nltk\n",
      "Successfully installed nltk-3.6.3 regex-2021.9.24\n"
     ]
    }
   ],
   "source": [
    "! pip install nltk"
   ]
  },
  {
   "cell_type": "code",
   "execution_count": 39,
   "id": "9cac8ebb",
   "metadata": {},
   "outputs": [
    {
     "name": "stderr",
     "output_type": "stream",
     "text": [
      "[nltk_data] Downloading package stopwords to /home/jovyan/nltk_data...\n",
      "[nltk_data]   Unzipping corpora/stopwords.zip.\n"
     ]
    },
    {
     "data": {
      "text/plain": [
       "True"
      ]
     },
     "execution_count": 39,
     "metadata": {},
     "output_type": "execute_result"
    }
   ],
   "source": [
    "import nltk\n",
    "\n",
    "nltk.download('stopwords')"
   ]
  },
  {
   "cell_type": "code",
   "execution_count": null,
   "id": "a2a0803b",
   "metadata": {},
   "outputs": [],
   "source": [
    "from nltk.corpus import stopwords\n",
    "# \", \".join(stopwords.words('english'))\n",
    "\", \".join(stopwords.words('norwegian'))"
   ]
  },
  {
   "cell_type": "code",
   "execution_count": 46,
   "id": "72971607",
   "metadata": {},
   "outputs": [
    {
     "data": {
      "text/html": [
       "<div>\n",
       "<style scoped>\n",
       "    .dataframe tbody tr th:only-of-type {\n",
       "        vertical-align: middle;\n",
       "    }\n",
       "\n",
       "    .dataframe tbody tr th {\n",
       "        vertical-align: top;\n",
       "    }\n",
       "\n",
       "    .dataframe thead th {\n",
       "        text-align: right;\n",
       "    }\n",
       "</style>\n",
       "<table border=\"1\" class=\"dataframe\">\n",
       "  <thead>\n",
       "    <tr style=\"text-align: right;\">\n",
       "      <th></th>\n",
       "      <th>OriginalTweet</th>\n",
       "      <th>text_wo_punct</th>\n",
       "      <th>text_lower</th>\n",
       "      <th>text_wo_stop</th>\n",
       "    </tr>\n",
       "  </thead>\n",
       "  <tbody>\n",
       "    <tr>\n",
       "      <th>0</th>\n",
       "      <td>@MeNyrbie @Phil_Gahan @Chrisitv https://t.co/i...</td>\n",
       "      <td>menyrbie philgahan chrisitv httpstcoifz9fan2pa...</td>\n",
       "      <td>@menyrbie @phil_gahan @chrisitv https://t.co/i...</td>\n",
       "      <td>menyrbie philgahan chrisitv httpstcoifz9fan2pa...</td>\n",
       "    </tr>\n",
       "    <tr>\n",
       "      <th>1</th>\n",
       "      <td>advice Talk to your neighbours family to excha...</td>\n",
       "      <td>advice talk to your neighbours family to excha...</td>\n",
       "      <td>advice talk to your neighbours family to excha...</td>\n",
       "      <td>advice talk neighbours family exchange phone n...</td>\n",
       "    </tr>\n",
       "    <tr>\n",
       "      <th>2</th>\n",
       "      <td>Coronavirus Australia: Woolworths to give elde...</td>\n",
       "      <td>coronavirus australia woolworths to give elder...</td>\n",
       "      <td>coronavirus australia: woolworths to give elde...</td>\n",
       "      <td>coronavirus australia woolworths give elderly ...</td>\n",
       "    </tr>\n",
       "    <tr>\n",
       "      <th>3</th>\n",
       "      <td>My food stock is not the only one which is emp...</td>\n",
       "      <td>my food stock is not the only one which is emp...</td>\n",
       "      <td>my food stock is not the only one which is emp...</td>\n",
       "      <td>food stock one empty please dont panic enough ...</td>\n",
       "    </tr>\n",
       "    <tr>\n",
       "      <th>4</th>\n",
       "      <td>Me, ready to go at supermarket during the #COV...</td>\n",
       "      <td>me ready to go at supermarket during the covid...</td>\n",
       "      <td>me, ready to go at supermarket during the #cov...</td>\n",
       "      <td>ready go supermarket covid19 outbreak im paran...</td>\n",
       "    </tr>\n",
       "  </tbody>\n",
       "</table>\n",
       "</div>"
      ],
      "text/plain": [
       "                                       OriginalTweet  \\\n",
       "0  @MeNyrbie @Phil_Gahan @Chrisitv https://t.co/i...   \n",
       "1  advice Talk to your neighbours family to excha...   \n",
       "2  Coronavirus Australia: Woolworths to give elde...   \n",
       "3  My food stock is not the only one which is emp...   \n",
       "4  Me, ready to go at supermarket during the #COV...   \n",
       "\n",
       "                                       text_wo_punct  \\\n",
       "0  menyrbie philgahan chrisitv httpstcoifz9fan2pa...   \n",
       "1  advice talk to your neighbours family to excha...   \n",
       "2  coronavirus australia woolworths to give elder...   \n",
       "3  my food stock is not the only one which is emp...   \n",
       "4  me ready to go at supermarket during the covid...   \n",
       "\n",
       "                                          text_lower  \\\n",
       "0  @menyrbie @phil_gahan @chrisitv https://t.co/i...   \n",
       "1  advice talk to your neighbours family to excha...   \n",
       "2  coronavirus australia: woolworths to give elde...   \n",
       "3  my food stock is not the only one which is emp...   \n",
       "4  me, ready to go at supermarket during the #cov...   \n",
       "\n",
       "                                        text_wo_stop  \n",
       "0  menyrbie philgahan chrisitv httpstcoifz9fan2pa...  \n",
       "1  advice talk neighbours family exchange phone n...  \n",
       "2  coronavirus australia woolworths give elderly ...  \n",
       "3  food stock one empty please dont panic enough ...  \n",
       "4  ready go supermarket covid19 outbreak im paran...  "
      ]
     },
     "execution_count": 46,
     "metadata": {},
     "output_type": "execute_result"
    }
   ],
   "source": [
    "STOPWORDS = set(stopwords.words('english'))\n",
    "def remove_stopwords(text):\n",
    "    \"\"\"custom function to remove the stopwords\"\"\"\n",
    "    return \" \".join([word for word in str(text).split() if word not in STOPWORDS])\n",
    "\n",
    "train['text_wo_stop'] = train['text_wo_punct'].apply(lambda text: remove_stopwords(text))\n",
    "train.head()"
   ]
  },
  {
   "cell_type": "markdown",
   "id": "e6ca9b78",
   "metadata": {},
   "source": [
    "### Removal of Frequent words\n",
    "I'll skip this step for now"
   ]
  },
  {
   "cell_type": "code",
   "execution_count": 51,
   "id": "1513700d",
   "metadata": {},
   "outputs": [
    {
     "data": {
      "text/plain": [
       "[('coronavirus', 17958),\n",
       " ('covid19', 16795),\n",
       " ('prices', 7882),\n",
       " ('food', 7032),\n",
       " ('supermarket', 6981),\n",
       " ('store', 6776),\n",
       " ('grocery', 6232),\n",
       " ('people', 5467),\n",
       " ('amp', 4955),\n",
       " ('consumer', 4455),\n",
       " ('19', 3698),\n",
       " ('shopping', 3587),\n",
       " ('online', 3413),\n",
       " ('covid', 3253),\n",
       " ('pandemic', 3136),\n",
       " ('get', 2867),\n",
       " ('need', 2700),\n",
       " ('us', 2610),\n",
       " ('workers', 2566),\n",
       " ('panic', 2445),\n",
       " ('like', 2362),\n",
       " ('sanitizer', 2346),\n",
       " ('time', 2269),\n",
       " ('demand', 2255),\n",
       " ('go', 2251),\n",
       " ('home', 2226),\n",
       " ('help', 2131),\n",
       " ('hand', 2058),\n",
       " ('stock', 1970),\n",
       " ('going', 1943)]"
      ]
     },
     "execution_count": 51,
     "metadata": {},
     "output_type": "execute_result"
    }
   ],
   "source": [
    "from collections import Counter\n",
    "cnt = Counter()\n",
    "for text in train[\"text_wo_stop\"].values:\n",
    "    for word in text.split():\n",
    "        cnt[word] += 1\n",
    "        \n",
    "cnt.most_common(30)"
   ]
  },
  {
   "cell_type": "markdown",
   "id": "66f2ddec",
   "metadata": {},
   "source": [
    "### Removal of Rare words\n",
    "I'll leav thihs one as well"
   ]
  },
  {
   "cell_type": "code",
   "execution_count": 56,
   "id": "19219c9d",
   "metadata": {},
   "outputs": [
    {
     "data": {
      "text/plain": [
       "[('whethe', 1),\n",
       " ('rift', 1),\n",
       " ('newused', 1),\n",
       " ('tartiicat', 1),\n",
       " ('martinsville', 1),\n",
       " ('kameronwilds', 1),\n",
       " ('rejecting', 1),\n",
       " ('httpstcocz89ua0hnp', 1),\n",
       " ('mrsilverscott', 1),\n",
       " ('httpstcov8xdxhqeyn', 1)]"
      ]
     },
     "execution_count": 56,
     "metadata": {},
     "output_type": "execute_result"
    }
   ],
   "source": [
    "n=10\n",
    "cnt.most_common()[:-n-1:-1]"
   ]
  },
  {
   "cell_type": "code",
   "execution_count": 70,
   "id": "56068c05",
   "metadata": {},
   "outputs": [
    {
     "data": {
      "text/plain": [
       "62613"
      ]
     },
     "execution_count": 70,
     "metadata": {},
     "output_type": "execute_result"
    }
   ],
   "source": [
    "RAREWORDS = set([w for (w, wc) in cnt.most_common() if wc <= 1])\n",
    "len(RAREWORDS)"
   ]
  },
  {
   "cell_type": "code",
   "execution_count": 72,
   "id": "17f7f06c",
   "metadata": {},
   "outputs": [
    {
     "data": {
      "text/html": [
       "<div>\n",
       "<style scoped>\n",
       "    .dataframe tbody tr th:only-of-type {\n",
       "        vertical-align: middle;\n",
       "    }\n",
       "\n",
       "    .dataframe tbody tr th {\n",
       "        vertical-align: top;\n",
       "    }\n",
       "\n",
       "    .dataframe thead th {\n",
       "        text-align: right;\n",
       "    }\n",
       "</style>\n",
       "<table border=\"1\" class=\"dataframe\">\n",
       "  <thead>\n",
       "    <tr style=\"text-align: right;\">\n",
       "      <th></th>\n",
       "      <th>OriginalTweet</th>\n",
       "      <th>text_wo_punct</th>\n",
       "      <th>text_lower</th>\n",
       "      <th>text_wo_stop</th>\n",
       "      <th>text_wo_stopfreqrare</th>\n",
       "    </tr>\n",
       "  </thead>\n",
       "  <tbody>\n",
       "    <tr>\n",
       "      <th>0</th>\n",
       "      <td>@MeNyrbie @Phil_Gahan @Chrisitv https://t.co/i...</td>\n",
       "      <td>menyrbie philgahan chrisitv httpstcoifz9fan2pa...</td>\n",
       "      <td>@menyrbie @phil_gahan @chrisitv https://t.co/i...</td>\n",
       "      <td>menyrbie philgahan chrisitv httpstcoifz9fan2pa...</td>\n",
       "      <td>chrisitv</td>\n",
       "    </tr>\n",
       "    <tr>\n",
       "      <th>1</th>\n",
       "      <td>advice Talk to your neighbours family to excha...</td>\n",
       "      <td>advice talk to your neighbours family to excha...</td>\n",
       "      <td>advice talk to your neighbours family to excha...</td>\n",
       "      <td>advice talk neighbours family exchange phone n...</td>\n",
       "      <td>advice talk neighbours family exchange phone n...</td>\n",
       "    </tr>\n",
       "    <tr>\n",
       "      <th>2</th>\n",
       "      <td>Coronavirus Australia: Woolworths to give elde...</td>\n",
       "      <td>coronavirus australia woolworths to give elder...</td>\n",
       "      <td>coronavirus australia: woolworths to give elde...</td>\n",
       "      <td>coronavirus australia woolworths give elderly ...</td>\n",
       "      <td>coronavirus australia woolworths give elderly ...</td>\n",
       "    </tr>\n",
       "    <tr>\n",
       "      <th>3</th>\n",
       "      <td>My food stock is not the only one which is emp...</td>\n",
       "      <td>my food stock is not the only one which is emp...</td>\n",
       "      <td>my food stock is not the only one which is emp...</td>\n",
       "      <td>food stock one empty please dont panic enough ...</td>\n",
       "      <td>food stock one empty please dont panic enough ...</td>\n",
       "    </tr>\n",
       "    <tr>\n",
       "      <th>4</th>\n",
       "      <td>Me, ready to go at supermarket during the #COV...</td>\n",
       "      <td>me ready to go at supermarket during the covid...</td>\n",
       "      <td>me, ready to go at supermarket during the #cov...</td>\n",
       "      <td>ready go supermarket covid19 outbreak im paran...</td>\n",
       "      <td>ready go supermarket covid19 outbreak im paran...</td>\n",
       "    </tr>\n",
       "  </tbody>\n",
       "</table>\n",
       "</div>"
      ],
      "text/plain": [
       "                                       OriginalTweet  \\\n",
       "0  @MeNyrbie @Phil_Gahan @Chrisitv https://t.co/i...   \n",
       "1  advice Talk to your neighbours family to excha...   \n",
       "2  Coronavirus Australia: Woolworths to give elde...   \n",
       "3  My food stock is not the only one which is emp...   \n",
       "4  Me, ready to go at supermarket during the #COV...   \n",
       "\n",
       "                                       text_wo_punct  \\\n",
       "0  menyrbie philgahan chrisitv httpstcoifz9fan2pa...   \n",
       "1  advice talk to your neighbours family to excha...   \n",
       "2  coronavirus australia woolworths to give elder...   \n",
       "3  my food stock is not the only one which is emp...   \n",
       "4  me ready to go at supermarket during the covid...   \n",
       "\n",
       "                                          text_lower  \\\n",
       "0  @menyrbie @phil_gahan @chrisitv https://t.co/i...   \n",
       "1  advice talk to your neighbours family to excha...   \n",
       "2  coronavirus australia: woolworths to give elde...   \n",
       "3  my food stock is not the only one which is emp...   \n",
       "4  me, ready to go at supermarket during the #cov...   \n",
       "\n",
       "                                        text_wo_stop  \\\n",
       "0  menyrbie philgahan chrisitv httpstcoifz9fan2pa...   \n",
       "1  advice talk neighbours family exchange phone n...   \n",
       "2  coronavirus australia woolworths give elderly ...   \n",
       "3  food stock one empty please dont panic enough ...   \n",
       "4  ready go supermarket covid19 outbreak im paran...   \n",
       "\n",
       "                                text_wo_stopfreqrare  \n",
       "0                                           chrisitv  \n",
       "1  advice talk neighbours family exchange phone n...  \n",
       "2  coronavirus australia woolworths give elderly ...  \n",
       "3  food stock one empty please dont panic enough ...  \n",
       "4  ready go supermarket covid19 outbreak im paran...  "
      ]
     },
     "execution_count": 72,
     "metadata": {},
     "output_type": "execute_result"
    }
   ],
   "source": [
    "def remove_rarewords(text):\n",
    "    \"\"\"custom function to remove the rare words\"\"\"\n",
    "    return \" \".join([word for word in str(text).split() if word not in RAREWORDS])\n",
    "\n",
    "train['text_wo_stopfreqrare'] = train['text_wo_stop'].apply(lambda text: remove_rarewords(text))\n",
    "train.head()"
   ]
  },
  {
   "cell_type": "markdown",
   "id": "ebb59c42",
   "metadata": {},
   "source": [
    "### Stemming\n",
    "Stemming is the process of reducing inflected (or sometimes derived) words to their word stem, base or root form.  \n",
    "  \n",
    "For example, if there are two words in the corpus walks and walking, then stemming will stem the suffix to make them walk.  \n",
    "[Link](https://www.kaggle.com/sudalairajkumar/getting-started-with-text-preprocessing#Stemming)"
   ]
  },
  {
   "cell_type": "code",
   "execution_count": 74,
   "id": "fd76a183",
   "metadata": {},
   "outputs": [
    {
     "data": {
      "text/plain": [
       "('arabic',\n",
       " 'danish',\n",
       " 'dutch',\n",
       " 'english',\n",
       " 'finnish',\n",
       " 'french',\n",
       " 'german',\n",
       " 'hungarian',\n",
       " 'italian',\n",
       " 'norwegian',\n",
       " 'porter',\n",
       " 'portuguese',\n",
       " 'romanian',\n",
       " 'russian',\n",
       " 'spanish',\n",
       " 'swedish')"
      ]
     },
     "execution_count": 74,
     "metadata": {},
     "output_type": "execute_result"
    }
   ],
   "source": [
    "# Stemmer for other languages\n",
    "from nltk.stem.snowball import SnowballStemmer\n",
    "SnowballStemmer.languages"
   ]
  },
  {
   "cell_type": "code",
   "execution_count": 73,
   "id": "255b7416",
   "metadata": {},
   "outputs": [
    {
     "data": {
      "text/html": [
       "<div>\n",
       "<style scoped>\n",
       "    .dataframe tbody tr th:only-of-type {\n",
       "        vertical-align: middle;\n",
       "    }\n",
       "\n",
       "    .dataframe tbody tr th {\n",
       "        vertical-align: top;\n",
       "    }\n",
       "\n",
       "    .dataframe thead th {\n",
       "        text-align: right;\n",
       "    }\n",
       "</style>\n",
       "<table border=\"1\" class=\"dataframe\">\n",
       "  <thead>\n",
       "    <tr style=\"text-align: right;\">\n",
       "      <th></th>\n",
       "      <th>OriginalTweet</th>\n",
       "      <th>text_wo_punct</th>\n",
       "      <th>text_lower</th>\n",
       "      <th>text_wo_stop</th>\n",
       "      <th>text_wo_stopfreqrare</th>\n",
       "      <th>text_stemmed</th>\n",
       "    </tr>\n",
       "  </thead>\n",
       "  <tbody>\n",
       "    <tr>\n",
       "      <th>0</th>\n",
       "      <td>@MeNyrbie @Phil_Gahan @Chrisitv https://t.co/i...</td>\n",
       "      <td>menyrbie philgahan chrisitv httpstcoifz9fan2pa...</td>\n",
       "      <td>@menyrbie @phil_gahan @chrisitv https://t.co/i...</td>\n",
       "      <td>menyrbie philgahan chrisitv httpstcoifz9fan2pa...</td>\n",
       "      <td>chrisitv</td>\n",
       "      <td>chrisitv</td>\n",
       "    </tr>\n",
       "    <tr>\n",
       "      <th>1</th>\n",
       "      <td>advice Talk to your neighbours family to excha...</td>\n",
       "      <td>advice talk to your neighbours family to excha...</td>\n",
       "      <td>advice talk to your neighbours family to excha...</td>\n",
       "      <td>advice talk neighbours family exchange phone n...</td>\n",
       "      <td>advice talk neighbours family exchange phone n...</td>\n",
       "      <td>advic talk neighbour famili exchang phone numb...</td>\n",
       "    </tr>\n",
       "    <tr>\n",
       "      <th>2</th>\n",
       "      <td>Coronavirus Australia: Woolworths to give elde...</td>\n",
       "      <td>coronavirus australia woolworths to give elder...</td>\n",
       "      <td>coronavirus australia: woolworths to give elde...</td>\n",
       "      <td>coronavirus australia woolworths give elderly ...</td>\n",
       "      <td>coronavirus australia woolworths give elderly ...</td>\n",
       "      <td>coronaviru australia woolworth give elderli di...</td>\n",
       "    </tr>\n",
       "    <tr>\n",
       "      <th>3</th>\n",
       "      <td>My food stock is not the only one which is emp...</td>\n",
       "      <td>my food stock is not the only one which is emp...</td>\n",
       "      <td>my food stock is not the only one which is emp...</td>\n",
       "      <td>food stock one empty please dont panic enough ...</td>\n",
       "      <td>food stock one empty please dont panic enough ...</td>\n",
       "      <td>food stock one empti pleas dont panic enough f...</td>\n",
       "    </tr>\n",
       "    <tr>\n",
       "      <th>4</th>\n",
       "      <td>Me, ready to go at supermarket during the #COV...</td>\n",
       "      <td>me ready to go at supermarket during the covid...</td>\n",
       "      <td>me, ready to go at supermarket during the #cov...</td>\n",
       "      <td>ready go supermarket covid19 outbreak im paran...</td>\n",
       "      <td>ready go supermarket covid19 outbreak im paran...</td>\n",
       "      <td>readi go supermarket covid19 outbreak im paran...</td>\n",
       "    </tr>\n",
       "  </tbody>\n",
       "</table>\n",
       "</div>"
      ],
      "text/plain": [
       "                                       OriginalTweet  \\\n",
       "0  @MeNyrbie @Phil_Gahan @Chrisitv https://t.co/i...   \n",
       "1  advice Talk to your neighbours family to excha...   \n",
       "2  Coronavirus Australia: Woolworths to give elde...   \n",
       "3  My food stock is not the only one which is emp...   \n",
       "4  Me, ready to go at supermarket during the #COV...   \n",
       "\n",
       "                                       text_wo_punct  \\\n",
       "0  menyrbie philgahan chrisitv httpstcoifz9fan2pa...   \n",
       "1  advice talk to your neighbours family to excha...   \n",
       "2  coronavirus australia woolworths to give elder...   \n",
       "3  my food stock is not the only one which is emp...   \n",
       "4  me ready to go at supermarket during the covid...   \n",
       "\n",
       "                                          text_lower  \\\n",
       "0  @menyrbie @phil_gahan @chrisitv https://t.co/i...   \n",
       "1  advice talk to your neighbours family to excha...   \n",
       "2  coronavirus australia: woolworths to give elde...   \n",
       "3  my food stock is not the only one which is emp...   \n",
       "4  me, ready to go at supermarket during the #cov...   \n",
       "\n",
       "                                        text_wo_stop  \\\n",
       "0  menyrbie philgahan chrisitv httpstcoifz9fan2pa...   \n",
       "1  advice talk neighbours family exchange phone n...   \n",
       "2  coronavirus australia woolworths give elderly ...   \n",
       "3  food stock one empty please dont panic enough ...   \n",
       "4  ready go supermarket covid19 outbreak im paran...   \n",
       "\n",
       "                                text_wo_stopfreqrare  \\\n",
       "0                                           chrisitv   \n",
       "1  advice talk neighbours family exchange phone n...   \n",
       "2  coronavirus australia woolworths give elderly ...   \n",
       "3  food stock one empty please dont panic enough ...   \n",
       "4  ready go supermarket covid19 outbreak im paran...   \n",
       "\n",
       "                                        text_stemmed  \n",
       "0                                           chrisitv  \n",
       "1  advic talk neighbour famili exchang phone numb...  \n",
       "2  coronaviru australia woolworth give elderli di...  \n",
       "3  food stock one empti pleas dont panic enough f...  \n",
       "4  readi go supermarket covid19 outbreak im paran...  "
      ]
     },
     "execution_count": 73,
     "metadata": {},
     "output_type": "execute_result"
    }
   ],
   "source": [
    "from nltk.stem.porter import PorterStemmer\n",
    "\n",
    "stemmer = PorterStemmer()\n",
    "def stem_words(text):\n",
    "    return \" \".join([stemmer.stem(word) for word in text.split()])\n",
    "\n",
    "train['text_stemmed'] = train['text_wo_stopfreqrare'].apply(lambda text: stem_words(text))\n",
    "train.head()"
   ]
  },
  {
   "cell_type": "markdown",
   "id": "b32154e5",
   "metadata": {},
   "source": [
    "## Lemmatization\n",
    "Lemmatization is similar to stemming in reducing inflected words to their word stem but differs in the way that it makes sure the root word (also called as lemma) belongs to the language.  \n",
    "IT's a more advanced for for stemming.  \n",
    "[Link](https://www.kaggle.com/sudalairajkumar/getting-started-with-text-preprocessing#Lemmatization)"
   ]
  },
  {
   "cell_type": "code",
   "execution_count": 78,
   "id": "60a4109b",
   "metadata": {},
   "outputs": [
    {
     "name": "stderr",
     "output_type": "stream",
     "text": [
      "[nltk_data] Downloading package wordnet to /home/jovyan/nltk_data...\n",
      "[nltk_data]   Package wordnet is already up-to-date!\n",
      "[nltk_data] Downloading package averaged_perceptron_tagger to\n",
      "[nltk_data]     /home/jovyan/nltk_data...\n",
      "[nltk_data]   Unzipping taggers/averaged_perceptron_tagger.zip.\n"
     ]
    },
    {
     "data": {
      "text/plain": [
       "True"
      ]
     },
     "execution_count": 78,
     "metadata": {},
     "output_type": "execute_result"
    }
   ],
   "source": [
    "import nltk\n",
    "nltk.download('wordnet')\n",
    "nltk.download('averaged_perceptron_tagger')"
   ]
  },
  {
   "cell_type": "code",
   "execution_count": 79,
   "id": "d767863e",
   "metadata": {},
   "outputs": [
    {
     "data": {
      "text/html": [
       "<div>\n",
       "<style scoped>\n",
       "    .dataframe tbody tr th:only-of-type {\n",
       "        vertical-align: middle;\n",
       "    }\n",
       "\n",
       "    .dataframe tbody tr th {\n",
       "        vertical-align: top;\n",
       "    }\n",
       "\n",
       "    .dataframe thead th {\n",
       "        text-align: right;\n",
       "    }\n",
       "</style>\n",
       "<table border=\"1\" class=\"dataframe\">\n",
       "  <thead>\n",
       "    <tr style=\"text-align: right;\">\n",
       "      <th></th>\n",
       "      <th>OriginalTweet</th>\n",
       "      <th>text_wo_punct</th>\n",
       "      <th>text_lower</th>\n",
       "      <th>text_wo_stop</th>\n",
       "      <th>text_wo_stopfreqrare</th>\n",
       "      <th>text_stemmed</th>\n",
       "      <th>text_lemmatized</th>\n",
       "    </tr>\n",
       "  </thead>\n",
       "  <tbody>\n",
       "    <tr>\n",
       "      <th>0</th>\n",
       "      <td>@MeNyrbie @Phil_Gahan @Chrisitv https://t.co/i...</td>\n",
       "      <td>menyrbie philgahan chrisitv httpstcoifz9fan2pa...</td>\n",
       "      <td>@menyrbie @phil_gahan @chrisitv https://t.co/i...</td>\n",
       "      <td>menyrbie philgahan chrisitv httpstcoifz9fan2pa...</td>\n",
       "      <td>chrisitv</td>\n",
       "      <td>chrisitv</td>\n",
       "      <td>chrisitv</td>\n",
       "    </tr>\n",
       "    <tr>\n",
       "      <th>1</th>\n",
       "      <td>advice Talk to your neighbours family to excha...</td>\n",
       "      <td>advice talk to your neighbours family to excha...</td>\n",
       "      <td>advice talk to your neighbours family to excha...</td>\n",
       "      <td>advice talk neighbours family exchange phone n...</td>\n",
       "      <td>advice talk neighbours family exchange phone n...</td>\n",
       "      <td>advic talk neighbour famili exchang phone numb...</td>\n",
       "      <td>advice talk neighbour family exchange phone nu...</td>\n",
       "    </tr>\n",
       "    <tr>\n",
       "      <th>2</th>\n",
       "      <td>Coronavirus Australia: Woolworths to give elde...</td>\n",
       "      <td>coronavirus australia woolworths to give elder...</td>\n",
       "      <td>coronavirus australia: woolworths to give elde...</td>\n",
       "      <td>coronavirus australia woolworths give elderly ...</td>\n",
       "      <td>coronavirus australia woolworths give elderly ...</td>\n",
       "      <td>coronaviru australia woolworth give elderli di...</td>\n",
       "      <td>coronavirus australia woolworths give elderly ...</td>\n",
       "    </tr>\n",
       "    <tr>\n",
       "      <th>3</th>\n",
       "      <td>My food stock is not the only one which is emp...</td>\n",
       "      <td>my food stock is not the only one which is emp...</td>\n",
       "      <td>my food stock is not the only one which is emp...</td>\n",
       "      <td>food stock one empty please dont panic enough ...</td>\n",
       "      <td>food stock one empty please dont panic enough ...</td>\n",
       "      <td>food stock one empti pleas dont panic enough f...</td>\n",
       "      <td>food stock one empty please dont panic enough ...</td>\n",
       "    </tr>\n",
       "    <tr>\n",
       "      <th>4</th>\n",
       "      <td>Me, ready to go at supermarket during the #COV...</td>\n",
       "      <td>me ready to go at supermarket during the covid...</td>\n",
       "      <td>me, ready to go at supermarket during the #cov...</td>\n",
       "      <td>ready go supermarket covid19 outbreak im paran...</td>\n",
       "      <td>ready go supermarket covid19 outbreak im paran...</td>\n",
       "      <td>readi go supermarket covid19 outbreak im paran...</td>\n",
       "      <td>ready go supermarket covid19 outbreak im paran...</td>\n",
       "    </tr>\n",
       "  </tbody>\n",
       "</table>\n",
       "</div>"
      ],
      "text/plain": [
       "                                       OriginalTweet  \\\n",
       "0  @MeNyrbie @Phil_Gahan @Chrisitv https://t.co/i...   \n",
       "1  advice Talk to your neighbours family to excha...   \n",
       "2  Coronavirus Australia: Woolworths to give elde...   \n",
       "3  My food stock is not the only one which is emp...   \n",
       "4  Me, ready to go at supermarket during the #COV...   \n",
       "\n",
       "                                       text_wo_punct  \\\n",
       "0  menyrbie philgahan chrisitv httpstcoifz9fan2pa...   \n",
       "1  advice talk to your neighbours family to excha...   \n",
       "2  coronavirus australia woolworths to give elder...   \n",
       "3  my food stock is not the only one which is emp...   \n",
       "4  me ready to go at supermarket during the covid...   \n",
       "\n",
       "                                          text_lower  \\\n",
       "0  @menyrbie @phil_gahan @chrisitv https://t.co/i...   \n",
       "1  advice talk to your neighbours family to excha...   \n",
       "2  coronavirus australia: woolworths to give elde...   \n",
       "3  my food stock is not the only one which is emp...   \n",
       "4  me, ready to go at supermarket during the #cov...   \n",
       "\n",
       "                                        text_wo_stop  \\\n",
       "0  menyrbie philgahan chrisitv httpstcoifz9fan2pa...   \n",
       "1  advice talk neighbours family exchange phone n...   \n",
       "2  coronavirus australia woolworths give elderly ...   \n",
       "3  food stock one empty please dont panic enough ...   \n",
       "4  ready go supermarket covid19 outbreak im paran...   \n",
       "\n",
       "                                text_wo_stopfreqrare  \\\n",
       "0                                           chrisitv   \n",
       "1  advice talk neighbours family exchange phone n...   \n",
       "2  coronavirus australia woolworths give elderly ...   \n",
       "3  food stock one empty please dont panic enough ...   \n",
       "4  ready go supermarket covid19 outbreak im paran...   \n",
       "\n",
       "                                        text_stemmed  \\\n",
       "0                                           chrisitv   \n",
       "1  advic talk neighbour famili exchang phone numb...   \n",
       "2  coronaviru australia woolworth give elderli di...   \n",
       "3  food stock one empti pleas dont panic enough f...   \n",
       "4  readi go supermarket covid19 outbreak im paran...   \n",
       "\n",
       "                                     text_lemmatized  \n",
       "0                                           chrisitv  \n",
       "1  advice talk neighbour family exchange phone nu...  \n",
       "2  coronavirus australia woolworths give elderly ...  \n",
       "3  food stock one empty please dont panic enough ...  \n",
       "4  ready go supermarket covid19 outbreak im paran...  "
      ]
     },
     "execution_count": 79,
     "metadata": {},
     "output_type": "execute_result"
    }
   ],
   "source": [
    "from nltk.corpus import wordnet\n",
    "from nltk.stem import WordNetLemmatizer\n",
    "\n",
    "lemmatizer = WordNetLemmatizer()\n",
    "wordnet_map = {\"N\":wordnet.NOUN, \"V\":wordnet.VERB, \"J\":wordnet.ADJ, \"R\":wordnet.ADV}\n",
    "def lemmatize_words(text):\n",
    "    pos_tagged_text = nltk.pos_tag(text.split())\n",
    "    return \" \".join([lemmatizer.lemmatize(word, wordnet_map.get(pos[0], wordnet.NOUN)) for word, pos in pos_tagged_text])\n",
    "\n",
    "train['text_lemmatized'] = train['text_wo_stopfreqrare'].apply(lambda text: lemmatize_words(text))\n",
    "train.head()"
   ]
  },
  {
   "cell_type": "markdown",
   "id": "1cef65e3",
   "metadata": {},
   "source": [
    "## Removal of emojis\n"
   ]
  },
  {
   "cell_type": "code",
   "execution_count": null,
   "id": "54db73f8",
   "metadata": {},
   "outputs": [],
   "source": [
    "def remove_emoji(string):\n",
    "    emoji_pattern = re.compile(\"[\"\n",
    "                           u\"\\U0001F600-\\U0001F64F\"  # emoticons\n",
    "                           u\"\\U0001F300-\\U0001F5FF\"  # symbols & pictographs\n",
    "                           u\"\\U0001F680-\\U0001F6FF\"  # transport & map symbols\n",
    "                           u\"\\U0001F1E0-\\U0001F1FF\"  # flags (iOS)\n",
    "                           u\"\\U00002702-\\U000027B0\"\n",
    "                           u\"\\U000024C2-\\U0001F251\"\n",
    "                           \"]+\", flags=re.UNICODE)\n",
    "    return emoji_pattern.sub(r'', string)"
   ]
  },
  {
   "cell_type": "markdown",
   "id": "4d3b438d",
   "metadata": {},
   "source": [
    "## Removal of emoticons\n"
   ]
  },
  {
   "cell_type": "code",
   "execution_count": null,
   "id": "01b4dac4",
   "metadata": {},
   "outputs": [],
   "source": [
    "def remove_emoticons(text):\n",
    "    emoticon_pattern = re.compile(u'(' + u'|'.join(k for k in EMOTICONS) + u')')\n",
    "    return emoticon_pattern.sub(r'', text)"
   ]
  },
  {
   "cell_type": "markdown",
   "id": "f50d48cc",
   "metadata": {},
   "source": [
    "## Conversion of emoticons to words"
   ]
  },
  {
   "cell_type": "code",
   "execution_count": 80,
   "id": "de07fd4a",
   "metadata": {},
   "outputs": [],
   "source": [
    "# Not relevant"
   ]
  },
  {
   "cell_type": "markdown",
   "id": "795f9e67",
   "metadata": {},
   "source": [
    "## Conversion of emojis to words"
   ]
  },
  {
   "cell_type": "code",
   "execution_count": 81,
   "id": "e071f7e9",
   "metadata": {},
   "outputs": [],
   "source": [
    "# Not relevant"
   ]
  },
  {
   "cell_type": "markdown",
   "id": "6dd6aeb1",
   "metadata": {},
   "source": [
    "## Removal of URLs"
   ]
  },
  {
   "cell_type": "code",
   "execution_count": 82,
   "id": "c7ca02cf",
   "metadata": {},
   "outputs": [],
   "source": [
    "def remove_urls(text):\n",
    "    url_pattern = re.compile(r'https?://\\S+|www\\.\\S+')\n",
    "    return url_pattern.sub(r'', text)"
   ]
  },
  {
   "cell_type": "markdown",
   "id": "03871efa",
   "metadata": {},
   "source": [
    "## Removal of HTML tags"
   ]
  },
  {
   "cell_type": "code",
   "execution_count": 83,
   "id": "ca8777e0",
   "metadata": {},
   "outputs": [],
   "source": [
    "def remove_html(text):\n",
    "    html_pattern = re.compile('<.*?>')\n",
    "    return html_pattern.sub(r'', text)"
   ]
  },
  {
   "cell_type": "markdown",
   "id": "428ca1e4",
   "metadata": {},
   "source": [
    "## Chat words conversion"
   ]
  },
  {
   "cell_type": "code",
   "execution_count": 84,
   "id": "663b778e",
   "metadata": {},
   "outputs": [],
   "source": [
    "# Not relevant for now"
   ]
  },
  {
   "cell_type": "markdown",
   "id": "dfc23001",
   "metadata": {},
   "source": [
    "## Spelling correction\n",
    "[Supported languages:](https://pyspellchecker.readthedocs.io/en/latest/#non-english-dictionaries)\n",
    "- English - ‘en’\n",
    "- Spanish - ‘es’\n",
    "- French - ‘fr’\n",
    "- Portuguese - ‘pt’\n",
    "- German - ‘de’\n",
    "- Russian - ‘ru’"
   ]
  },
  {
   "cell_type": "code",
   "execution_count": 86,
   "id": "c7fff8ab",
   "metadata": {},
   "outputs": [
    {
     "name": "stdout",
     "output_type": "stream",
     "text": [
      "Collecting spellchecker\n",
      "  Downloading spellchecker-0.4.tar.gz (3.9 MB)\n",
      "\u001b[K     |████████████████████████████████| 3.9 MB 4.9 MB/s eta 0:00:01     |████████████████                | 2.0 MB 4.9 MB/s eta 0:00:01\n",
      "\u001b[?25hRequirement already satisfied: setuptools in /opt/conda/lib/python3.9/site-packages (from spellchecker) (58.0.4)\n",
      "Collecting inexactsearch\n",
      "  Downloading inexactsearch-1.0.2.tar.gz (21 kB)\n",
      "Collecting soundex>=1.0\n",
      "  Downloading soundex-1.1.3.tar.gz (9.1 kB)\n",
      "Collecting silpa_common>=0.3\n",
      "  Downloading silpa_common-0.3.tar.gz (9.4 kB)\n",
      "Building wheels for collected packages: spellchecker, inexactsearch, silpa-common, soundex\n",
      "  Building wheel for spellchecker (setup.py) ... \u001b[?25ldone\n",
      "\u001b[?25h  Created wheel for spellchecker: filename=spellchecker-0.4-py3-none-any.whl size=3966514 sha256=89ebb73884b3de8fa257a3293b70c8426082bb9d46f40ff0d8348565c55914ef\n",
      "  Stored in directory: /home/jovyan/.cache/pip/wheels/8c/52/b3/8795c86fe999a3b1a7d0f1b75a197fd984e37057cb537e2977\n",
      "  Building wheel for inexactsearch (setup.py) ... \u001b[?25ldone\n",
      "\u001b[?25h  Created wheel for inexactsearch: filename=inexactsearch-1.0.2-py3-none-any.whl size=7140 sha256=e3cec468de8e2cd273273e1423c5f7e657552cde9c9f242de48fc8e6403e8d62\n",
      "  Stored in directory: /home/jovyan/.cache/pip/wheels/da/15/83/b2b0adf6ebb17b0c7b8de4a901f0585ceb7627788a80071de0\n",
      "  Building wheel for silpa-common (setup.py) ... \u001b[?25ldone\n",
      "\u001b[?25h  Created wheel for silpa-common: filename=silpa_common-0.3-py3-none-any.whl size=8482 sha256=9d0d3d5adf0d3d426d705858b7841d199bee55b1ffb3d7be63b433b7d66e890f\n",
      "  Stored in directory: /home/jovyan/.cache/pip/wheels/a6/6f/59/e83ae5c4ca78098dbecd1708dc7cd6856f202c0a008d8c3340\n",
      "  Building wheel for soundex (setup.py) ... \u001b[?25ldone\n",
      "\u001b[?25h  Created wheel for soundex: filename=soundex-1.1.3-py3-none-any.whl size=8894 sha256=1d61ad98c4d0f9e47fe4222d43ddabfcec281804d297428642d3b440e53f177d\n",
      "  Stored in directory: /home/jovyan/.cache/pip/wheels/e8/fb/75/027059566520e35a1388cc49b69c84f6a28c4d530a5944ff55\n",
      "Successfully built spellchecker inexactsearch silpa-common soundex\n",
      "Installing collected packages: silpa-common, soundex, inexactsearch, spellchecker\n",
      "Successfully installed inexactsearch-1.0.2 silpa-common-0.3 soundex-1.1.3 spellchecker-0.4\n"
     ]
    }
   ],
   "source": [
    "!pip install spellchecker  "
   ]
  },
  {
   "cell_type": "code",
   "execution_count": 88,
   "id": "fdad29db",
   "metadata": {},
   "outputs": [
    {
     "ename": "ModuleNotFoundError",
     "evalue": "No module named 'indexer'",
     "output_type": "error",
     "traceback": [
      "\u001b[0;31m---------------------------------------------------------------------------\u001b[0m",
      "\u001b[0;31mModuleNotFoundError\u001b[0m                       Traceback (most recent call last)",
      "\u001b[0;32m/tmp/ipykernel_33/1007891425.py\u001b[0m in \u001b[0;36m<module>\u001b[0;34m\u001b[0m\n\u001b[0;32m----> 1\u001b[0;31m \u001b[0;32mfrom\u001b[0m \u001b[0mspellchecker\u001b[0m \u001b[0;32mimport\u001b[0m \u001b[0mSpellChecker\u001b[0m\u001b[0;34m\u001b[0m\u001b[0;34m\u001b[0m\u001b[0m\n\u001b[0m\u001b[1;32m      2\u001b[0m \u001b[0;34m\u001b[0m\u001b[0m\n\u001b[1;32m      3\u001b[0m \u001b[0mspell\u001b[0m \u001b[0;34m=\u001b[0m \u001b[0mSpellChecker\u001b[0m\u001b[0;34m(\u001b[0m\u001b[0;34m)\u001b[0m\u001b[0;34m\u001b[0m\u001b[0;34m\u001b[0m\u001b[0m\n\u001b[1;32m      4\u001b[0m \u001b[0;32mdef\u001b[0m \u001b[0mcorrect_spellings\u001b[0m\u001b[0;34m(\u001b[0m\u001b[0mtext\u001b[0m\u001b[0;34m)\u001b[0m\u001b[0;34m:\u001b[0m\u001b[0;34m\u001b[0m\u001b[0;34m\u001b[0m\u001b[0m\n\u001b[1;32m      5\u001b[0m     \u001b[0mcorrected_text\u001b[0m \u001b[0;34m=\u001b[0m \u001b[0;34m[\u001b[0m\u001b[0;34m]\u001b[0m\u001b[0;34m\u001b[0m\u001b[0;34m\u001b[0m\u001b[0m\n",
      "\u001b[0;32m/opt/conda/lib/python3.9/site-packages/spellchecker/__init__.py\u001b[0m in \u001b[0;36m<module>\u001b[0;34m\u001b[0m\n\u001b[1;32m      1\u001b[0m \u001b[0;31m# -*- coding: utf-8 -*-\u001b[0m\u001b[0;34m\u001b[0m\u001b[0;34m\u001b[0m\u001b[0;34m\u001b[0m\u001b[0m\n\u001b[0;32m----> 2\u001b[0;31m \u001b[0;32mfrom\u001b[0m  \u001b[0mspellchecker\u001b[0m\u001b[0;34m.\u001b[0m\u001b[0mcore\u001b[0m \u001b[0;32mimport\u001b[0m \u001b[0mSpellchecker\u001b[0m\u001b[0;34m,\u001b[0m\u001b[0mgetInstance\u001b[0m\u001b[0;34m\u001b[0m\u001b[0;34m\u001b[0m\u001b[0m\n\u001b[0m\u001b[1;32m      3\u001b[0m \u001b[0;34m\u001b[0m\u001b[0m\n",
      "\u001b[0;32m/opt/conda/lib/python3.9/site-packages/spellchecker/core.py\u001b[0m in \u001b[0;36m<module>\u001b[0;34m\u001b[0m\n\u001b[1;32m     24\u001b[0m \u001b[0;32mimport\u001b[0m \u001b[0murllib\u001b[0m\u001b[0;34m\u001b[0m\u001b[0;34m\u001b[0m\u001b[0m\n\u001b[1;32m     25\u001b[0m \u001b[0;34m\u001b[0m\u001b[0m\n\u001b[0;32m---> 26\u001b[0;31m \u001b[0;32mfrom\u001b[0m \u001b[0mindexer\u001b[0m \u001b[0;32mimport\u001b[0m \u001b[0mDictionaryIndex\u001b[0m\u001b[0;34m\u001b[0m\u001b[0;34m\u001b[0m\u001b[0m\n\u001b[0m\u001b[1;32m     27\u001b[0m \u001b[0;32mfrom\u001b[0m \u001b[0mlangdetect\u001b[0m \u001b[0;32mimport\u001b[0m \u001b[0m_detect_lang\u001b[0m\u001b[0;34m\u001b[0m\u001b[0;34m\u001b[0m\u001b[0m\n\u001b[1;32m     28\u001b[0m \u001b[0;34m\u001b[0m\u001b[0m\n",
      "\u001b[0;31mModuleNotFoundError\u001b[0m: No module named 'indexer'"
     ]
    }
   ],
   "source": [
    "from spellchecker import SpellChecker\n",
    "\n",
    "spell = SpellChecker()\n",
    "def correct_spellings(text):\n",
    "    corrected_text = []\n",
    "    misspelled_words = spell.unknown(text.split())\n",
    "    for word in text.split():\n",
    "        if word in misspelled_words:\n",
    "            corrected_text.append(spell.correction(word))\n",
    "        else:\n",
    "            corrected_text.append(word)\n",
    "    return \" \".join(corrected_text)\n",
    "        \n",
    "text = \"speling correctin\"\n",
    "correct_spellings(text)"
   ]
  },
  {
   "cell_type": "code",
   "execution_count": null,
   "id": "e304cb6d",
   "metadata": {},
   "outputs": [],
   "source": []
  },
  {
   "cell_type": "markdown",
   "id": "9f17417a",
   "metadata": {},
   "source": [
    "## 2. Data imoutation\n"
   ]
  },
  {
   "cell_type": "code",
   "execution_count": null,
   "id": "fe734b50",
   "metadata": {},
   "outputs": [],
   "source": []
  },
  {
   "cell_type": "markdown",
   "id": "56b8fed6",
   "metadata": {},
   "source": [
    "## 3. Encode categorical features\n",
    "..."
   ]
  },
  {
   "cell_type": "code",
   "execution_count": null,
   "id": "68fd0064",
   "metadata": {},
   "outputs": [],
   "source": []
  },
  {
   "cell_type": "markdown",
   "id": "5899c285",
   "metadata": {},
   "source": [
    "# 5. Data analyze\n",
    "...\n",
    "## 1. Visualization\n",
    "..."
   ]
  },
  {
   "cell_type": "code",
   "execution_count": null,
   "id": "e9058472",
   "metadata": {},
   "outputs": [],
   "source": []
  },
  {
   "cell_type": "markdown",
   "id": "7e9e0e33",
   "metadata": {},
   "source": [
    "## 2. Variance\n",
    "..."
   ]
  },
  {
   "cell_type": "code",
   "execution_count": null,
   "id": "f5cce61e",
   "metadata": {},
   "outputs": [],
   "source": []
  },
  {
   "cell_type": "markdown",
   "id": "e4ea17db",
   "metadata": {},
   "source": [
    "## 3. Correlation\n",
    "..."
   ]
  },
  {
   "cell_type": "code",
   "execution_count": null,
   "id": "24b9dc24",
   "metadata": {},
   "outputs": [],
   "source": []
  },
  {
   "cell_type": "markdown",
   "id": "7e533891",
   "metadata": {},
   "source": [
    "## 4. Feature importance\n",
    "..."
   ]
  },
  {
   "cell_type": "code",
   "execution_count": null,
   "id": "c2f33942",
   "metadata": {},
   "outputs": [],
   "source": []
  },
  {
   "cell_type": "markdown",
   "id": "12856667",
   "metadata": {},
   "source": [
    "# 6. Feature selection\n",
    "..."
   ]
  },
  {
   "cell_type": "code",
   "execution_count": null,
   "id": "7916df51",
   "metadata": {},
   "outputs": [],
   "source": []
  },
  {
   "cell_type": "markdown",
   "id": "95148a72",
   "metadata": {},
   "source": [
    "# 7. Feature engineering\n",
    "..."
   ]
  },
  {
   "cell_type": "code",
   "execution_count": null,
   "id": "9abb3a74",
   "metadata": {},
   "outputs": [],
   "source": []
  },
  {
   "cell_type": "markdown",
   "id": "49e83faf",
   "metadata": {},
   "source": [
    "# 8. Train-val-test split\n",
    "..."
   ]
  },
  {
   "cell_type": "code",
   "execution_count": null,
   "id": "dc4b7b94",
   "metadata": {},
   "outputs": [],
   "source": []
  },
  {
   "cell_type": "markdown",
   "id": "f9b85e65",
   "metadata": {},
   "source": [
    "# 9. Prepare data\n",
    "...\n",
    "## 1. Transform data\n",
    "..."
   ]
  },
  {
   "cell_type": "code",
   "execution_count": null,
   "id": "6be18481",
   "metadata": {},
   "outputs": [],
   "source": []
  },
  {
   "cell_type": "markdown",
   "id": "453fa3aa",
   "metadata": {},
   "source": [
    "## 2. Feature scaling\n",
    "..."
   ]
  },
  {
   "cell_type": "code",
   "execution_count": null,
   "id": "ecb9bd00",
   "metadata": {},
   "outputs": [],
   "source": []
  },
  {
   "cell_type": "markdown",
   "id": "cca522f3",
   "metadata": {},
   "source": [
    "## 3. Check for imbalance\n",
    "..."
   ]
  },
  {
   "cell_type": "code",
   "execution_count": null,
   "id": "f32b47e0",
   "metadata": {},
   "outputs": [],
   "source": []
  },
  {
   "cell_type": "markdown",
   "id": "0004568b",
   "metadata": {},
   "source": [
    "# 10. Train some models\n",
    "..."
   ]
  },
  {
   "cell_type": "code",
   "execution_count": null,
   "id": "ced3c93e",
   "metadata": {},
   "outputs": [],
   "source": []
  },
  {
   "cell_type": "markdown",
   "id": "07004350",
   "metadata": {},
   "source": [
    "# 11. Evaluate models\n",
    "..."
   ]
  },
  {
   "cell_type": "code",
   "execution_count": null,
   "id": "f7f1e572",
   "metadata": {},
   "outputs": [],
   "source": []
  },
  {
   "cell_type": "markdown",
   "id": "f7d2753b",
   "metadata": {},
   "source": [
    "# 12. Tune selected models\n",
    "..."
   ]
  },
  {
   "cell_type": "code",
   "execution_count": null,
   "id": "1bfa7407",
   "metadata": {},
   "outputs": [],
   "source": []
  },
  {
   "cell_type": "markdown",
   "id": "b59a7caa",
   "metadata": {},
   "source": [
    "# 13. Production\n",
    "..."
   ]
  },
  {
   "cell_type": "code",
   "execution_count": null,
   "id": "e299110c",
   "metadata": {},
   "outputs": [],
   "source": []
  }
 ],
 "metadata": {
  "kernelspec": {
   "display_name": "Python 3 (ipykernel)",
   "language": "python",
   "name": "python3"
  },
  "language_info": {
   "codemirror_mode": {
    "name": "ipython",
    "version": 3
   },
   "file_extension": ".py",
   "mimetype": "text/x-python",
   "name": "python",
   "nbconvert_exporter": "python",
   "pygments_lexer": "ipython3",
   "version": "3.9.6"
  }
 },
 "nbformat": 4,
 "nbformat_minor": 5
}
