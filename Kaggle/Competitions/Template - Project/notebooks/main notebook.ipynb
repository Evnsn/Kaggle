{
 "cells": [
  {
   "cell_type": "markdown",
   "id": "8a1d452d",
   "metadata": {},
   "source": [
    "# Table of content:\n",
    "1. [Define problem](#1.-Define-problem)\n",
    "    1. Domain knowledge\n",
    "2. [Gather data](#2.-Gather-data)\n",
    "    1. Import libaries\n",
    "    2. Load data\n",
    "3. [Pre-processdata](#3.-Pre-processdata)\n",
    "    1.Data clean-up\n",
    "    2. Data imoutation\n",
    "    3. Encode categorical features\n",
    "4. [Data analyze](#4.-Data-analyze)\n",
    "    1. Visualization\n",
    "    2. Variance\n",
    "    3. Correlation\n",
    "    4. Feature importance\n",
    "5. [Feature selection](#5.-Feature-selection)\n",
    "6. [Feature engineering](#6.-Feature-engineering)\n",
    "7. [Train-val-test split](#7.-Train-val-test-split)\n",
    "8. [Prepare data](#8.-Prepare-data)\n",
    "    1. Transform data\n",
    "    2. Feature scaling\n",
    "    3. Check for imbalance\n",
    "9. [Train some models](#9.-Train-some-models)\n",
    "10. [Evaluate models](#10.-Evaluate-models)\n",
    "11. [Tune selected models](#11.-Tune-selected-models)\n",
    "12. [Production](#12.-Production)"
   ]
  },
  {
   "cell_type": "markdown",
   "id": "09b13a82",
   "metadata": {},
   "source": [
    "# 1. Define problem\n",
    "...  \n",
    "## 1. Domain knowledge\n",
    "... "
   ]
  },
  {
   "cell_type": "code",
   "execution_count": null,
   "id": "d300fab6",
   "metadata": {},
   "outputs": [],
   "source": []
  },
  {
   "cell_type": "markdown",
   "id": "1e0c7ad4",
   "metadata": {},
   "source": [
    "# 2. Gather data\n",
    "... \n",
    "## 1. Import libaries\n",
    "... "
   ]
  },
  {
   "cell_type": "code",
   "execution_count": null,
   "id": "80feaae4",
   "metadata": {},
   "outputs": [],
   "source": []
  },
  {
   "cell_type": "markdown",
   "id": "22bd9555",
   "metadata": {},
   "source": [
    "## 2. Load data\n",
    "..."
   ]
  },
  {
   "cell_type": "code",
   "execution_count": null,
   "id": "b5b4a6d2",
   "metadata": {},
   "outputs": [],
   "source": []
  },
  {
   "cell_type": "markdown",
   "id": "c03827cd",
   "metadata": {},
   "source": [
    "# 3. Pre-processdata\n",
    "...\n",
    "## 1.Data clean-up\n",
    "..."
   ]
  },
  {
   "cell_type": "code",
   "execution_count": null,
   "id": "d01badf1",
   "metadata": {},
   "outputs": [],
   "source": []
  },
  {
   "cell_type": "markdown",
   "id": "9f17417a",
   "metadata": {},
   "source": [
    "## 2. Data imoutation\n",
    "..."
   ]
  },
  {
   "cell_type": "code",
   "execution_count": null,
   "id": "fe734b50",
   "metadata": {},
   "outputs": [],
   "source": []
  },
  {
   "cell_type": "markdown",
   "id": "56b8fed6",
   "metadata": {},
   "source": [
    "## 3. Encode categorical features\n",
    "..."
   ]
  },
  {
   "cell_type": "code",
   "execution_count": null,
   "id": "68fd0064",
   "metadata": {},
   "outputs": [],
   "source": []
  },
  {
   "cell_type": "markdown",
   "id": "5899c285",
   "metadata": {},
   "source": [
    "# 4. Data analyze\n",
    "...\n",
    "## 1. Visualization\n",
    "..."
   ]
  },
  {
   "cell_type": "code",
   "execution_count": null,
   "id": "e9058472",
   "metadata": {},
   "outputs": [],
   "source": []
  },
  {
   "cell_type": "markdown",
   "id": "7e9e0e33",
   "metadata": {},
   "source": [
    "# 2. Variance\n",
    "..."
   ]
  },
  {
   "cell_type": "code",
   "execution_count": null,
   "id": "f5cce61e",
   "metadata": {},
   "outputs": [],
   "source": []
  },
  {
   "cell_type": "markdown",
   "id": "e4ea17db",
   "metadata": {},
   "source": [
    "## 3. Correlation\n",
    "..."
   ]
  },
  {
   "cell_type": "code",
   "execution_count": null,
   "id": "24b9dc24",
   "metadata": {},
   "outputs": [],
   "source": []
  },
  {
   "cell_type": "markdown",
   "id": "7e533891",
   "metadata": {},
   "source": [
    "## 4. Feature importance\n",
    "..."
   ]
  },
  {
   "cell_type": "code",
   "execution_count": null,
   "id": "c2f33942",
   "metadata": {},
   "outputs": [],
   "source": []
  },
  {
   "cell_type": "markdown",
   "id": "12856667",
   "metadata": {},
   "source": [
    "# 5. Feature selection\n",
    "..."
   ]
  },
  {
   "cell_type": "code",
   "execution_count": null,
   "id": "7916df51",
   "metadata": {},
   "outputs": [],
   "source": []
  },
  {
   "cell_type": "markdown",
   "id": "95148a72",
   "metadata": {},
   "source": [
    "# 6. Feature engineering\n",
    "..."
   ]
  },
  {
   "cell_type": "code",
   "execution_count": null,
   "id": "9abb3a74",
   "metadata": {},
   "outputs": [],
   "source": []
  },
  {
   "cell_type": "markdown",
   "id": "49e83faf",
   "metadata": {},
   "source": [
    "# 7. Train-val-test split\n",
    "..."
   ]
  },
  {
   "cell_type": "code",
   "execution_count": null,
   "id": "dc4b7b94",
   "metadata": {},
   "outputs": [],
   "source": []
  },
  {
   "cell_type": "markdown",
   "id": "f9b85e65",
   "metadata": {},
   "source": [
    "# 8. Prepare data\n",
    "...\n",
    "## 1. Transform data\n",
    "..."
   ]
  },
  {
   "cell_type": "code",
   "execution_count": null,
   "id": "6be18481",
   "metadata": {},
   "outputs": [],
   "source": []
  },
  {
   "cell_type": "markdown",
   "id": "453fa3aa",
   "metadata": {},
   "source": [
    "## 2. Feature scaling\n",
    "..."
   ]
  },
  {
   "cell_type": "code",
   "execution_count": null,
   "id": "ecb9bd00",
   "metadata": {},
   "outputs": [],
   "source": []
  },
  {
   "cell_type": "markdown",
   "id": "cca522f3",
   "metadata": {},
   "source": [
    "## 3. Check for imbalance\n",
    "..."
   ]
  },
  {
   "cell_type": "code",
   "execution_count": null,
   "id": "f32b47e0",
   "metadata": {},
   "outputs": [],
   "source": []
  },
  {
   "cell_type": "markdown",
   "id": "0004568b",
   "metadata": {},
   "source": [
    "# 9. Train some models\n",
    "..."
   ]
  },
  {
   "cell_type": "code",
   "execution_count": null,
   "id": "ced3c93e",
   "metadata": {},
   "outputs": [],
   "source": []
  },
  {
   "cell_type": "markdown",
   "id": "07004350",
   "metadata": {},
   "source": [
    "# 10. Evaluate models\n",
    "..."
   ]
  },
  {
   "cell_type": "code",
   "execution_count": null,
   "id": "f7f1e572",
   "metadata": {},
   "outputs": [],
   "source": []
  },
  {
   "cell_type": "markdown",
   "id": "f7d2753b",
   "metadata": {},
   "source": [
    "# 11. Tune selected models\n",
    "..."
   ]
  },
  {
   "cell_type": "code",
   "execution_count": null,
   "id": "1bfa7407",
   "metadata": {},
   "outputs": [],
   "source": []
  },
  {
   "cell_type": "markdown",
   "id": "b59a7caa",
   "metadata": {},
   "source": [
    "# 12. Production\n",
    "..."
   ]
  },
  {
   "cell_type": "code",
   "execution_count": null,
   "id": "e299110c",
   "metadata": {},
   "outputs": [],
   "source": []
  }
 ],
 "metadata": {
  "kernelspec": {
   "display_name": "Python 3 (ipykernel)",
   "language": "python",
   "name": "python3"
  },
  "language_info": {
   "codemirror_mode": {
    "name": "ipython",
    "version": 3
   },
   "file_extension": ".py",
   "mimetype": "text/x-python",
   "name": "python",
   "nbconvert_exporter": "python",
   "pygments_lexer": "ipython3",
   "version": "3.9.6"
  }
 },
 "nbformat": 4,
 "nbformat_minor": 5
}
