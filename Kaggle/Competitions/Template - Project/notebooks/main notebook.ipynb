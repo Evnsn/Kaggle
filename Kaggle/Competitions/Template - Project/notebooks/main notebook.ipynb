{
 "cells": [
  {
   "cell_type": "markdown",
   "id": "787f6a2a",
   "metadata": {},
   "source": [
    "# Table of content:\n",
    "1. [Define problem](#1.-Define-problem)\n",
    "    1. Domain knowledge\n",
    "2. Gather data\n",
    "    1. Import libaries\n",
    "    2. Load data\n",
    "3. Pre-processdata\n",
    "    1.Data clean-up\n",
    "    2. Data imoutation\n",
    "    3. Encode categorical features\n",
    "4. Data analyze\n",
    "    1. Visualization\n",
    "    2. Variance\n",
    "    3. Correlation\n",
    "    4. Feature importance\n",
    "5. Feature selection\n",
    "6. Feature engineering\n",
    "7. Train-val-test split\n",
    "8. Prepare data\n",
    "    1. Transform data\n",
    "    2. Feature scaling\n",
    "    3. Check for imbalance\n",
    "9. Train some models\n",
    "10. Evaluate models\n",
    "11. Tune selected models\n",
    "12. Production"
   ]
  },
  {
   "cell_type": "markdown",
   "id": "4accf50b",
   "metadata": {},
   "source": [
    "# 1. Define problem\n",
    "...  \n",
    "## 1. Domain knowledge\n",
    "... "
   ]
  },
  {
   "cell_type": "code",
   "execution_count": null,
   "id": "148264d4",
   "metadata": {},
   "outputs": [],
   "source": []
  },
  {
   "cell_type": "markdown",
   "id": "9eede516",
   "metadata": {},
   "source": [
    "# 2. Gather data\n",
    "... \n",
    "## 1. Import libaries\n",
    "... "
   ]
  },
  {
   "cell_type": "code",
   "execution_count": null,
   "id": "fdca27c7",
   "metadata": {},
   "outputs": [],
   "source": []
  },
  {
   "cell_type": "markdown",
   "id": "e41e9c33",
   "metadata": {},
   "source": [
    "## 2. Load data\n",
    "..."
   ]
  },
  {
   "cell_type": "code",
   "execution_count": null,
   "id": "569939b3",
   "metadata": {},
   "outputs": [],
   "source": []
  },
  {
   "cell_type": "markdown",
   "id": "4a88d6a6",
   "metadata": {},
   "source": [
    "# 3. Pre-processdata\n",
    "...\n",
    "## 1.Data clean-up\n",
    "..."
   ]
  },
  {
   "cell_type": "code",
   "execution_count": null,
   "id": "9034919b",
   "metadata": {},
   "outputs": [],
   "source": []
  },
  {
   "cell_type": "markdown",
   "id": "6e989f35",
   "metadata": {},
   "source": [
    "## 2. Data imoutation\n",
    "..."
   ]
  },
  {
   "cell_type": "code",
   "execution_count": null,
   "id": "3e206313",
   "metadata": {},
   "outputs": [],
   "source": []
  },
  {
   "cell_type": "markdown",
   "id": "d6738c2d",
   "metadata": {},
   "source": [
    "## 3. Encode categorical features\n",
    "..."
   ]
  },
  {
   "cell_type": "code",
   "execution_count": null,
   "id": "877e0804",
   "metadata": {},
   "outputs": [],
   "source": []
  },
  {
   "cell_type": "markdown",
   "id": "27282fb5",
   "metadata": {},
   "source": [
    "# 4. Data analyze\n",
    "...\n",
    "## 1. Visualization\n",
    "..."
   ]
  },
  {
   "cell_type": "code",
   "execution_count": null,
   "id": "c145a5dd",
   "metadata": {},
   "outputs": [],
   "source": []
  },
  {
   "cell_type": "markdown",
   "id": "102d3c4f",
   "metadata": {},
   "source": [
    "# 2. Variance\n",
    "..."
   ]
  },
  {
   "cell_type": "code",
   "execution_count": null,
   "id": "08df7abc",
   "metadata": {},
   "outputs": [],
   "source": []
  },
  {
   "cell_type": "markdown",
   "id": "43c277e4",
   "metadata": {},
   "source": [
    "## 3. Correlation\n",
    "..."
   ]
  },
  {
   "cell_type": "code",
   "execution_count": null,
   "id": "aa475947",
   "metadata": {},
   "outputs": [],
   "source": []
  },
  {
   "cell_type": "markdown",
   "id": "5df8e4ad",
   "metadata": {},
   "source": [
    "## 4. Feature importance\n",
    "..."
   ]
  },
  {
   "cell_type": "code",
   "execution_count": null,
   "id": "45f1d5e0",
   "metadata": {},
   "outputs": [],
   "source": []
  },
  {
   "cell_type": "markdown",
   "id": "6e701aa4",
   "metadata": {},
   "source": [
    "# 5. Feature selection\n",
    "..."
   ]
  },
  {
   "cell_type": "code",
   "execution_count": null,
   "id": "b4b4099c",
   "metadata": {},
   "outputs": [],
   "source": []
  },
  {
   "cell_type": "markdown",
   "id": "0b8e662f",
   "metadata": {},
   "source": [
    "# 6. Feature engineering\n",
    "..."
   ]
  },
  {
   "cell_type": "code",
   "execution_count": null,
   "id": "c719a8ac",
   "metadata": {},
   "outputs": [],
   "source": []
  },
  {
   "cell_type": "markdown",
   "id": "e60a3aa0",
   "metadata": {},
   "source": [
    "# 7. Train-val-test split\n",
    "..."
   ]
  },
  {
   "cell_type": "code",
   "execution_count": null,
   "id": "3b4911f5",
   "metadata": {},
   "outputs": [],
   "source": []
  },
  {
   "cell_type": "markdown",
   "id": "1e0e8ca8",
   "metadata": {},
   "source": [
    "# 8. Prepare data\n",
    "...\n",
    "## 1. Transform data\n",
    "..."
   ]
  },
  {
   "cell_type": "code",
   "execution_count": null,
   "id": "cafb2635",
   "metadata": {},
   "outputs": [],
   "source": []
  },
  {
   "cell_type": "markdown",
   "id": "9a783652",
   "metadata": {},
   "source": [
    "## 2. Feature scaling\n",
    "..."
   ]
  },
  {
   "cell_type": "code",
   "execution_count": null,
   "id": "05fadd99",
   "metadata": {},
   "outputs": [],
   "source": []
  },
  {
   "cell_type": "markdown",
   "id": "51900653",
   "metadata": {},
   "source": [
    "## 3. Check for imbalance\n",
    "..."
   ]
  },
  {
   "cell_type": "code",
   "execution_count": null,
   "id": "a0e566a5",
   "metadata": {},
   "outputs": [],
   "source": []
  },
  {
   "cell_type": "markdown",
   "id": "6b30000a",
   "metadata": {},
   "source": [
    "# 9. Train some models\n",
    "..."
   ]
  },
  {
   "cell_type": "code",
   "execution_count": null,
   "id": "9c181f7d",
   "metadata": {},
   "outputs": [],
   "source": []
  },
  {
   "cell_type": "markdown",
   "id": "8ac027fb",
   "metadata": {},
   "source": [
    "# 10. Evaluate models\n",
    "..."
   ]
  },
  {
   "cell_type": "code",
   "execution_count": null,
   "id": "677cf9b6",
   "metadata": {},
   "outputs": [],
   "source": []
  },
  {
   "cell_type": "markdown",
   "id": "ab2611f6",
   "metadata": {},
   "source": [
    "# 11. Tune selected models\n",
    "..."
   ]
  },
  {
   "cell_type": "code",
   "execution_count": null,
   "id": "d78b6612",
   "metadata": {},
   "outputs": [],
   "source": []
  },
  {
   "cell_type": "markdown",
   "id": "657b798a",
   "metadata": {},
   "source": [
    "# 12. Production\n",
    "..."
   ]
  },
  {
   "cell_type": "code",
   "execution_count": null,
   "id": "b3c96ddf",
   "metadata": {},
   "outputs": [],
   "source": []
  }
 ],
 "metadata": {
  "kernelspec": {
   "display_name": "Python 3 (ipykernel)",
   "language": "python",
   "name": "python3"
  },
  "language_info": {
   "codemirror_mode": {
    "name": "ipython",
    "version": 3
   },
   "file_extension": ".py",
   "mimetype": "text/x-python",
   "name": "python",
   "nbconvert_exporter": "python",
   "pygments_lexer": "ipython3",
   "version": "3.9.6"
  }
 },
 "nbformat": 4,
 "nbformat_minor": 5
}
