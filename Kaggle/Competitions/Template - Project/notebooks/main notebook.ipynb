{
 "cells": [
  {
   "cell_type": "markdown",
   "id": "de7d8b9b",
   "metadata": {},
   "source": [
    "# Table of content:\n",
    "1. [Define problem](#1.-Define-problem)\n",
    "    1. Domain knowledge\n",
    "2. [Gather data](#2.-Gather-data)\n",
    "    1. Import libaries\n",
    "    2. Load data\n",
    "3. [Pre-processdata](#3.-Pre-processdata)\n",
    "    1.Data clean-up\n",
    "    2. Data imoutation\n",
    "    3. Encode categorical features\n",
    "4. [Data analyze](#4.-Data-analyze)\n",
    "    1. Visualization\n",
    "    2. Variance\n",
    "    3. Correlation\n",
    "    4. Feature importance\n",
    "5. [Feature selection](#5.-Feature-selection)\n",
    "6. [Feature engineering](#6.-Feature-engineering)\n",
    "7. [Train-val-test split](#7.-Train-val-test-split)\n",
    "8. [Prepare data](#8.-Prepare-data)\n",
    "    1. Transform data\n",
    "    2. Feature scaling\n",
    "    3. Check for imbalance\n",
    "9. [Train some models](#9.-Train-some-models)\n",
    "10. Evaluate models]\n",
    "11. Tune selected models\n",
    "12. [Production](#12.-Production)"
   ]
  },
  {
   "cell_type": "markdown",
   "id": "1d346c74",
   "metadata": {},
   "source": [
    "# 1. Define problem\n",
    "...  \n",
    "## 1. Domain knowledge\n",
    "... "
   ]
  },
  {
   "cell_type": "code",
   "execution_count": null,
   "id": "e8212b3f",
   "metadata": {},
   "outputs": [],
   "source": []
  },
  {
   "cell_type": "markdown",
   "id": "9628daf5",
   "metadata": {},
   "source": [
    "# 2. Gather data\n",
    "... \n",
    "## 1. Import libaries\n",
    "... "
   ]
  },
  {
   "cell_type": "code",
   "execution_count": null,
   "id": "7adc608f",
   "metadata": {},
   "outputs": [],
   "source": []
  },
  {
   "cell_type": "markdown",
   "id": "956dd93f",
   "metadata": {},
   "source": [
    "## 2. Load data\n",
    "..."
   ]
  },
  {
   "cell_type": "code",
   "execution_count": null,
   "id": "61f8225f",
   "metadata": {},
   "outputs": [],
   "source": []
  },
  {
   "cell_type": "markdown",
   "id": "4aebe0a8",
   "metadata": {},
   "source": [
    "# 3. Pre-processdata\n",
    "...\n",
    "## 1.Data clean-up\n",
    "..."
   ]
  },
  {
   "cell_type": "code",
   "execution_count": null,
   "id": "6b75e46b",
   "metadata": {},
   "outputs": [],
   "source": []
  },
  {
   "cell_type": "markdown",
   "id": "8e9a1e13",
   "metadata": {},
   "source": [
    "## 2. Data imoutation\n",
    "..."
   ]
  },
  {
   "cell_type": "code",
   "execution_count": null,
   "id": "c6fe9871",
   "metadata": {},
   "outputs": [],
   "source": []
  },
  {
   "cell_type": "markdown",
   "id": "f7d8f1ec",
   "metadata": {},
   "source": [
    "## 3. Encode categorical features\n",
    "..."
   ]
  },
  {
   "cell_type": "code",
   "execution_count": null,
   "id": "56809afc",
   "metadata": {},
   "outputs": [],
   "source": []
  },
  {
   "cell_type": "markdown",
   "id": "b9b666ba",
   "metadata": {},
   "source": [
    "# 4. Data analyze\n",
    "...\n",
    "## 1. Visualization\n",
    "..."
   ]
  },
  {
   "cell_type": "code",
   "execution_count": null,
   "id": "28ea69a6",
   "metadata": {},
   "outputs": [],
   "source": []
  },
  {
   "cell_type": "markdown",
   "id": "61123057",
   "metadata": {},
   "source": [
    "# 2. Variance\n",
    "..."
   ]
  },
  {
   "cell_type": "code",
   "execution_count": null,
   "id": "c6e6c320",
   "metadata": {},
   "outputs": [],
   "source": []
  },
  {
   "cell_type": "markdown",
   "id": "0d773486",
   "metadata": {},
   "source": [
    "## 3. Correlation\n",
    "..."
   ]
  },
  {
   "cell_type": "code",
   "execution_count": null,
   "id": "7d181b39",
   "metadata": {},
   "outputs": [],
   "source": []
  },
  {
   "cell_type": "markdown",
   "id": "5f33a9fd",
   "metadata": {},
   "source": [
    "## 4. Feature importance\n",
    "..."
   ]
  },
  {
   "cell_type": "code",
   "execution_count": null,
   "id": "d40657bd",
   "metadata": {},
   "outputs": [],
   "source": []
  },
  {
   "cell_type": "markdown",
   "id": "f01e94b8",
   "metadata": {},
   "source": [
    "# 5. Feature selection\n",
    "..."
   ]
  },
  {
   "cell_type": "code",
   "execution_count": null,
   "id": "4d9ea8e4",
   "metadata": {},
   "outputs": [],
   "source": []
  },
  {
   "cell_type": "markdown",
   "id": "f1a925dd",
   "metadata": {},
   "source": [
    "# 6. Feature engineering\n",
    "..."
   ]
  },
  {
   "cell_type": "code",
   "execution_count": null,
   "id": "9da64e2e",
   "metadata": {},
   "outputs": [],
   "source": []
  },
  {
   "cell_type": "markdown",
   "id": "243a59b6",
   "metadata": {},
   "source": [
    "# 7. Train-val-test split\n",
    "..."
   ]
  },
  {
   "cell_type": "code",
   "execution_count": null,
   "id": "47f3c813",
   "metadata": {},
   "outputs": [],
   "source": []
  },
  {
   "cell_type": "markdown",
   "id": "18c3c423",
   "metadata": {},
   "source": [
    "# 8. Prepare data\n",
    "...\n",
    "## 1. Transform data\n",
    "..."
   ]
  },
  {
   "cell_type": "code",
   "execution_count": null,
   "id": "d5e956f0",
   "metadata": {},
   "outputs": [],
   "source": []
  },
  {
   "cell_type": "markdown",
   "id": "8ff5795d",
   "metadata": {},
   "source": [
    "## 2. Feature scaling\n",
    "..."
   ]
  },
  {
   "cell_type": "code",
   "execution_count": null,
   "id": "e3a665b1",
   "metadata": {},
   "outputs": [],
   "source": []
  },
  {
   "cell_type": "markdown",
   "id": "52f15ed4",
   "metadata": {},
   "source": [
    "## 3. Check for imbalance\n",
    "..."
   ]
  },
  {
   "cell_type": "code",
   "execution_count": null,
   "id": "8ab45264",
   "metadata": {},
   "outputs": [],
   "source": []
  },
  {
   "cell_type": "markdown",
   "id": "ea0a5cba",
   "metadata": {},
   "source": [
    "# 9. Train some models\n",
    "..."
   ]
  },
  {
   "cell_type": "code",
   "execution_count": null,
   "id": "050d257f",
   "metadata": {},
   "outputs": [],
   "source": []
  },
  {
   "cell_type": "markdown",
   "id": "7a9c4d24",
   "metadata": {},
   "source": [
    "# 10. Evaluate models\n",
    "..."
   ]
  },
  {
   "cell_type": "code",
   "execution_count": null,
   "id": "666aaae5",
   "metadata": {},
   "outputs": [],
   "source": []
  },
  {
   "cell_type": "markdown",
   "id": "d78c8327",
   "metadata": {},
   "source": [
    "# 11. Tune selected models\n",
    "..."
   ]
  },
  {
   "cell_type": "code",
   "execution_count": null,
   "id": "134de6da",
   "metadata": {},
   "outputs": [],
   "source": []
  },
  {
   "cell_type": "markdown",
   "id": "2db1b03c",
   "metadata": {},
   "source": [
    "# 12. Production\n",
    "..."
   ]
  },
  {
   "cell_type": "code",
   "execution_count": null,
   "id": "a3d62448",
   "metadata": {},
   "outputs": [],
   "source": []
  }
 ],
 "metadata": {
  "kernelspec": {
   "display_name": "Python 3 (ipykernel)",
   "language": "python",
   "name": "python3"
  },
  "language_info": {
   "codemirror_mode": {
    "name": "ipython",
    "version": 3
   },
   "file_extension": ".py",
   "mimetype": "text/x-python",
   "name": "python",
   "nbconvert_exporter": "python",
   "pygments_lexer": "ipython3",
   "version": "3.9.6"
  }
 },
 "nbformat": 4,
 "nbformat_minor": 5
}
