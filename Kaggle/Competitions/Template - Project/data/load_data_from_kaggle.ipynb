{
 "cells": [
  {
   "cell_type": "markdown",
   "source": [
    "# Pima Indians Diabetes Database\n",
    "## Introduction\n",
    "Load the data from Kaggle\n",
    "[Link](https://www.kaggle.com/uciml/pima-indians-diabetes-database)\n",
    "\n",
    "## Import"
   ],
   "metadata": {}
  },
  {
   "cell_type": "code",
   "execution_count": 7,
   "source": [
    "import kaggle\r\n",
    "import zipfile\r\n",
    "import os"
   ],
   "outputs": [],
   "metadata": {}
  },
  {
   "cell_type": "markdown",
   "source": [
    "## Download zip"
   ],
   "metadata": {}
  },
  {
   "cell_type": "code",
   "execution_count": 3,
   "source": [
    "!kaggle datasets download -d <dataset-path> #uciml/pima-indians-diabetes-database"
   ],
   "outputs": [
    {
     "output_type": "stream",
     "name": "stdout",
     "text": [
      "Warning: Your Kaggle API key is readable by other users on this system! To fix this, you can run 'chmod 600 /home/jovyan/.kaggle/kaggle.json'\n",
      "Downloading pima-indians-diabetes-database.zip to /kaggle/Competitions/Pima Indians/data\n",
      "  0%|                                               | 0.00/8.91k [00:00<?, ?B/s]\n",
      "100%|██████████████████████████████████████| 8.91k/8.91k [00:00<00:00, 4.45MB/s]\n"
     ]
    }
   ],
   "metadata": {}
  },
  {
   "cell_type": "markdown",
   "source": [
    "## Unzip"
   ],
   "metadata": {}
  },
  {
   "cell_type": "code",
   "execution_count": 42,
   "source": [
    "def unzip_files(paths=[], directory_to_extract_to=\".\"):\r\n",
    "    for path in paths:\r\n",
    "        with zipfile.ZipFile(path, 'r') as zip_ref:\r\n",
    "            zip_ref.extractall(directory_to_extract_to)"
   ],
   "outputs": [],
   "metadata": {}
  },
  {
   "cell_type": "code",
   "execution_count": 44,
   "source": [
    "root = os.getcwd()\r\n",
    "paths = []\r\n",
    "for (index, file) in enumerate(os.listdir(os.getcwd())):\r\n",
    "    if file.endswith(\".zip\"):\r\n",
    "        print(index, file)\r\n",
    "        paths.append(file)\r\n",
    "        unzip_files(paths, \"original\")"
   ],
   "outputs": [
    {
     "output_type": "stream",
     "name": "stdout",
     "text": [
      "3 pima-indians-diabetes-database.zip\n"
     ]
    }
   ],
   "metadata": {}
  },
  {
   "cell_type": "code",
   "execution_count": null,
   "source": [],
   "outputs": [],
   "metadata": {}
  }
 ],
 "metadata": {
  "kernelspec": {
   "display_name": "Python 3 (ipykernel)",
   "language": "python",
   "name": "python3"
  },
  "language_info": {
   "codemirror_mode": {
    "name": "ipython",
    "version": 3
   },
   "file_extension": ".py",
   "mimetype": "text/x-python",
   "name": "python",
   "nbconvert_exporter": "python",
   "pygments_lexer": "ipython3",
   "version": "3.9.6"
  }
 },
 "nbformat": 4,
 "nbformat_minor": 5
}