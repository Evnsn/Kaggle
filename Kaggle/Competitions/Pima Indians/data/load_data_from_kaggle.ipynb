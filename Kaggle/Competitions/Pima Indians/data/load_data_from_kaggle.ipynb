{
 "cells": [
  {
   "cell_type": "markdown",
   "id": "09bf511f",
   "metadata": {},
   "source": [
    "# Pima Indians Diabetes Database\n",
    "## Introduction\n",
    "Load the data from Kaggle\n",
    "[Link](https://www.kaggle.com/uciml/pima-indians-diabetes-database)\n",
    "\n",
    "## Import"
   ]
  },
  {
   "cell_type": "code",
   "execution_count": 7,
   "id": "b93ec5c0",
   "metadata": {},
   "outputs": [],
   "source": [
    "import kaggle\n",
    "import zipfile\n",
    "import os"
   ]
  },
  {
   "cell_type": "markdown",
   "id": "f194852f",
   "metadata": {},
   "source": [
    "## Download zip"
   ]
  },
  {
   "cell_type": "code",
   "execution_count": 3,
   "id": "42ea6b55",
   "metadata": {},
   "outputs": [
    {
     "name": "stdout",
     "output_type": "stream",
     "text": [
      "Warning: Your Kaggle API key is readable by other users on this system! To fix this, you can run 'chmod 600 /home/jovyan/.kaggle/kaggle.json'\n",
      "Downloading pima-indians-diabetes-database.zip to /kaggle/Competitions/Pima Indians/data\n",
      "  0%|                                               | 0.00/8.91k [00:00<?, ?B/s]\n",
      "100%|██████████████████████████████████████| 8.91k/8.91k [00:00<00:00, 4.45MB/s]\n"
     ]
    }
   ],
   "source": [
    "!kaggle datasets download -d uciml/pima-indians-diabetes-database"
   ]
  },
  {
   "cell_type": "markdown",
   "id": "16efc9e1",
   "metadata": {},
   "source": [
    "## Unzip"
   ]
  },
  {
   "cell_type": "code",
   "execution_count": 42,
   "id": "4e649b1a",
   "metadata": {},
   "outputs": [],
   "source": [
    "def unzip_files(paths=[], directory_to_extract_to=\".\"):\n",
    "    for path in paths:\n",
    "        with zipfile.ZipFile(path, 'r') as zip_ref:\n",
    "            zip_ref.extractall(directory_to_extract_to)"
   ]
  },
  {
   "cell_type": "code",
   "execution_count": 44,
   "id": "3edb2075",
   "metadata": {},
   "outputs": [
    {
     "name": "stdout",
     "output_type": "stream",
     "text": [
      "3 pima-indians-diabetes-database.zip\n"
     ]
    }
   ],
   "source": [
    "root = os.getcwd()\n",
    "paths = []\n",
    "for (index, file) in enumerate(os.listdir(os.getcwd())):\n",
    "    if file.endswith(\".zip\"):\n",
    "        print(index, file)\n",
    "        paths.append(file)\n",
    "        unzip_files(paths, \"original\")"
   ]
  },
  {
   "cell_type": "code",
   "execution_count": null,
   "id": "1c7a3e30",
   "metadata": {},
   "outputs": [],
   "source": []
  }
 ],
 "metadata": {
  "kernelspec": {
   "display_name": "Python 3 (ipykernel)",
   "language": "python",
   "name": "python3"
  },
  "language_info": {
   "codemirror_mode": {
    "name": "ipython",
    "version": 3
   },
   "file_extension": ".py",
   "mimetype": "text/x-python",
   "name": "python",
   "nbconvert_exporter": "python",
   "pygments_lexer": "ipython3",
   "version": "3.9.6"
  }
 },
 "nbformat": 4,
 "nbformat_minor": 5
}
